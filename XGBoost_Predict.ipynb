{
  "cells": [
    {
      "cell_type": "markdown",
      "metadata": {},
      "source": [
        "# Main XGBOOST Pipeline"
      ]
    },
    {
      "cell_type": "markdown",
      "metadata": {},
      "source": [
        "This is going to be a complicated problem, predicting high-frequency use is of huge importance to any hospital and emergency and there are many, many variables that can influence whether a patient returns to the hospital. \n",
        "\n",
        "With the consultaiton of a physician, high-frequency user was defined as anyone who visited the emergency department within 30 days of their last visit. Regardless of whether they showed up with the same symptoms or different ones. \n",
        "\n",
        "As such, this notebook is my attempt to create an XGBoost based learning model to predict readmission rate given a set of features. I explored around with both manual grid search and randomizedSearch with k-fold cross validation to optimize my models. Because of the large variability in this problem at it's core, my models, although high(ish) in accuracy, had poorer results in precision, recall, and f-1 scores. This is not surprising as other related papers that aim to identify patient re-admission also report similar precision (0.331), AUROC(0.739), and F1-scores(0.372), see: [text](https://www.nature.com/articles/s41598-020-58053-z#Tab1). "
      ]
    },
    {
      "cell_type": "markdown",
      "metadata": {},
      "source": [
        "## Data import and prep "
      ]
    },
    {
      "cell_type": "code",
      "execution_count": 26,
      "metadata": {
        "id": "DBKo7kYAmBf9"
      },
      "outputs": [],
      "source": [
        "# xgboost with proper data preprocessing\n",
        "import pandas as pd\n",
        "import numpy as np\n",
        "import matplotlib.pyplot as plt\n",
        "from sklearn.preprocessing import StandardScaler\n",
        "import os"
      ]
    },
    {
      "cell_type": "code",
      "execution_count": 34,
      "metadata": {
        "colab": {
          "base_uri": "https://localhost:8080/"
        },
        "id": "dbgH41bjVkis",
        "outputId": "a612d41f-c79c-4614-c16d-b89230e856b9"
      },
      "outputs": [
        {
          "name": "stdout",
          "output_type": "stream",
          "text": [
            "(26176, 28)\n"
          ]
        }
      ],
      "source": [
        "df = pd.read_csv('./preprocess_output/mimic_v6_labelled.csv')\n",
        "\n",
        "print(df.shape)"
      ]
    },
    {
      "cell_type": "markdown",
      "metadata": {},
      "source": [
        "So we have 26 thousand cases of data to use in this demo.  27 features and one response variable called 'Label' (we'll see that in a couple of steps). While this isn't the entirety of MIMIC-III dataset (not even close) I chose this numbber for this demo because it was small enough to run and at least show my thinking with. \n",
        "\n",
        "Additionally, data was selected and prepped using PostGreSQL, if I have time I'll put the specifics of data selection and pruning into this repo as well. "
      ]
    },
    {
      "cell_type": "markdown",
      "metadata": {},
      "source": [
        "There were some odd values in our feature set, take for example body temperature. Sometimes this value would be recorded as 4,5, or 6 instead of the actual temperature in degrees, and this shows up quite frequently in the dataset such that the average (mean) temperature in our data is 17.9C. So clearly temperature is coded differently than the raw thermostat value and other values like 4,5,6 are adding more complications to the variable. To get around this, I made a function that replaces any values of 4,5,6 with the last temperature value above 30C."
      ]
    },
    {
      "cell_type": "code",
      "execution_count": 35,
      "metadata": {
        "colab": {
          "base_uri": "https://localhost:8080/"
        },
        "id": "VCCBRhdiVxbz",
        "outputId": "ac2bfd1d-dad0-4357-e70d-c896cea7a2e6"
      },
      "outputs": [],
      "source": [
        "# Identify and replace erroneous temp values\n",
        "# Sort the DataFrame by subject_id and any other relevant column (e.g., timestamp)\n",
        "df.sort_values(by=['subject_id', 'admittime'], inplace=True)\n",
        "\n",
        "# Create a function to replace the values of 6 with the last value above 30\n",
        "def replace_values(group):\n",
        "    last_above_30 = None\n",
        "    new_temp = []\n",
        "\n",
        "    for temp in group['temp']:\n",
        "        if temp > 30:\n",
        "            last_above_30 = temp\n",
        "        elif last_above_30 is None:\n",
        "            last_above_30 = 36.66667  # Default value if no values above 30\n",
        "        new_temp.append(last_above_30 if temp in (4, 5, 6) else temp)\n",
        "\n",
        "    group['temp'] = new_temp\n",
        "    return group\n",
        "\n",
        "\n",
        "# Apply the function to each group of unique participants\n",
        "df = df.groupby('subject_id').apply(replace_values, include_groups=False)\n",
        "\n",
        "# Reset the index of the DataFrame\n",
        "df.reset_index(drop=True, inplace=True)"
      ]
    },
    {
      "cell_type": "markdown",
      "metadata": {},
      "source": [
        "Clean up our dataset. First lets combine a couple of features into one, such as medication count. And because of the potential high cardinality in some of these features, we'll bin them into 1,2,3,4,>4 ordinal features. "
      ]
    },
    {
      "cell_type": "code",
      "execution_count": 37,
      "metadata": {
        "id": "qnZODW_wV0TD"
      },
      "outputs": [],
      "source": [
        "# clean df, remove unrequired features and setup categorical and numerical df\n",
        "df['Medication_count'] = df['unique_cv_items_count'] + df['unique_mv_items_count']\n",
        "\n",
        "\n",
        "bin_edges = [0, 1, 2, 3, 4, float('inf')]\n",
        "bin_labels = ['1', '2', '3', '4', '>4']\n",
        "\n",
        "# Apply binning to the 'num_unique_icd9_codes' column\n",
        "df['num_unique_icd9_codes_bin'] = pd.cut(df['num_unique_icd9_codes'], bins=bin_edges, labels=bin_labels)\n",
        "\n",
        "# Apply binning to the 'Medication_count' column\n",
        "df['Medication_count_bin'] = pd.cut(df['Medication_count'], bins=bin_edges, labels=bin_labels)\n",
        "\n",
        "df = df.drop(columns=['Unnamed: 0.1','Unnamed: 0','admittime',\n",
        "                      'deathtime','marital_status',\n",
        "                      'hadm_id', 'icd9_code_2','icd9_code_3',\n",
        "                      'dischtime','admission_type',\n",
        "                      'unique_cv_items_count','unique_mv_items_count',\n",
        "                      'num_unique_icd9_codes','Medication_count','diagnosis'])\n",
        "\n",
        "df= df.dropna() # also drop rows with NaN values "
      ]
    },
    {
      "cell_type": "markdown",
      "metadata": {},
      "source": [
        "Clean up age values. Age is something in the orignial dataset that is purposefully coded as values above 300 to anonymize the dataset but we can work around that."
      ]
    },
    {
      "cell_type": "code",
      "execution_count": 38,
      "metadata": {
        "id": "m0DtfkbWWO_9"
      },
      "outputs": [],
      "source": [
        "# replace Age > 300\n",
        "def replace_above_300(value):\n",
        "    if value > 300:\n",
        "        return value - 210\n",
        "    return value\n",
        "\n",
        "# Apply the function to the 'age' column\n",
        "df['age'] = df['age'].apply(replace_above_300)"
      ]
    },
    {
      "cell_type": "code",
      "execution_count": 39,
      "metadata": {
        "colab": {
          "base_uri": "https://localhost:8080/",
          "height": 300
        },
        "id": "BuLK3MPQWQdd",
        "outputId": "69b3266e-24ac-410c-ea11-28a288706e1f"
      },
      "outputs": [
        {
          "data": {
            "application/vnd.microsoft.datawrangler.viewer.v0+json": {
              "columns": [
                {
                  "name": "index",
                  "rawType": "object",
                  "type": "string"
                },
                {
                  "name": "age",
                  "rawType": "float64",
                  "type": "float"
                },
                {
                  "name": "los",
                  "rawType": "float64",
                  "type": "float"
                },
                {
                  "name": "icd9_code_1",
                  "rawType": "float64",
                  "type": "float"
                },
                {
                  "name": "hr",
                  "rawType": "float64",
                  "type": "float"
                },
                {
                  "name": "nbp",
                  "rawType": "float64",
                  "type": "float"
                },
                {
                  "name": "spo2",
                  "rawType": "float64",
                  "type": "float"
                },
                {
                  "name": "rr",
                  "rawType": "float64",
                  "type": "float"
                },
                {
                  "name": "temp",
                  "rawType": "float64",
                  "type": "float"
                },
                {
                  "name": "Label",
                  "rawType": "float64",
                  "type": "float"
                }
              ],
              "conversionMethod": "pd.DataFrame",
              "ref": "280f6d5b-7a66-4724-bdc7-900591bce80a",
              "rows": [
                [
                  "count",
                  "20883.0",
                  "20883.0",
                  "20883.0",
                  "20883.0",
                  "20883.0",
                  "20883.0",
                  "20883.0",
                  "20883.0",
                  "20883.0"
                ],
                [
                  "mean",
                  "63.30458730534694",
                  "10.967242793167697",
                  "4879.559689699756",
                  "88.51257961006321",
                  "87.77485827942058",
                  "97.25901450940957",
                  "18.516544557774267",
                  "33.62260320798735",
                  "0.12139060479816119"
                ],
                [
                  "std",
                  "17.304136596015795",
                  "10.73733737983484",
                  "3103.9023387643283",
                  "20.586570864878805",
                  "832.0514192319607",
                  "4.633745988171398",
                  "6.20309246948695",
                  "10.019697258422635",
                  "0.32658847709343164"
                ],
                [
                  "min",
                  "18.0220827",
                  "-0.116666667",
                  "11.0",
                  "0.0",
                  "0.0",
                  "0.0",
                  "0.0",
                  "0.777778029",
                  "0.0"
                ],
                [
                  "25%",
                  "51.94280436",
                  "4.739583333500001",
                  "3601.0",
                  "75.0",
                  "69.0",
                  "96.0",
                  "14.0",
                  "36.44440079",
                  "0.0"
                ],
                [
                  "50%",
                  "64.84353563",
                  "7.865972222",
                  "3951.0",
                  "87.0",
                  "80.0",
                  "98.0",
                  "18.0",
                  "36.66667",
                  "0.0"
                ],
                [
                  "75%",
                  "77.22561248",
                  "13.50555556",
                  "8102.0",
                  "100.0",
                  "92.33329773",
                  "100.0",
                  "22.0",
                  "36.66667",
                  "0.0"
                ],
                [
                  "max",
                  "100.28085870000001",
                  "202.7625",
                  "9978.0",
                  "941.0",
                  "120130.03",
                  "100.0",
                  "160.0",
                  "40.83330154",
                  "1.0"
                ]
              ],
              "shape": {
                "columns": 9,
                "rows": 8
              }
            },
            "text/html": [
              "<div>\n",
              "<style scoped>\n",
              "    .dataframe tbody tr th:only-of-type {\n",
              "        vertical-align: middle;\n",
              "    }\n",
              "\n",
              "    .dataframe tbody tr th {\n",
              "        vertical-align: top;\n",
              "    }\n",
              "\n",
              "    .dataframe thead th {\n",
              "        text-align: right;\n",
              "    }\n",
              "</style>\n",
              "<table border=\"1\" class=\"dataframe\">\n",
              "  <thead>\n",
              "    <tr style=\"text-align: right;\">\n",
              "      <th></th>\n",
              "      <th>age</th>\n",
              "      <th>los</th>\n",
              "      <th>icd9_code_1</th>\n",
              "      <th>hr</th>\n",
              "      <th>nbp</th>\n",
              "      <th>spo2</th>\n",
              "      <th>rr</th>\n",
              "      <th>temp</th>\n",
              "      <th>Label</th>\n",
              "    </tr>\n",
              "  </thead>\n",
              "  <tbody>\n",
              "    <tr>\n",
              "      <th>count</th>\n",
              "      <td>20883.000000</td>\n",
              "      <td>20883.000000</td>\n",
              "      <td>20883.000000</td>\n",
              "      <td>20883.000000</td>\n",
              "      <td>20883.000000</td>\n",
              "      <td>20883.000000</td>\n",
              "      <td>20883.000000</td>\n",
              "      <td>20883.000000</td>\n",
              "      <td>20883.000000</td>\n",
              "    </tr>\n",
              "    <tr>\n",
              "      <th>mean</th>\n",
              "      <td>63.304587</td>\n",
              "      <td>10.967243</td>\n",
              "      <td>4879.559690</td>\n",
              "      <td>88.512580</td>\n",
              "      <td>87.774858</td>\n",
              "      <td>97.259015</td>\n",
              "      <td>18.516545</td>\n",
              "      <td>33.622603</td>\n",
              "      <td>0.121391</td>\n",
              "    </tr>\n",
              "    <tr>\n",
              "      <th>std</th>\n",
              "      <td>17.304137</td>\n",
              "      <td>10.737337</td>\n",
              "      <td>3103.902339</td>\n",
              "      <td>20.586571</td>\n",
              "      <td>832.051419</td>\n",
              "      <td>4.633746</td>\n",
              "      <td>6.203092</td>\n",
              "      <td>10.019697</td>\n",
              "      <td>0.326588</td>\n",
              "    </tr>\n",
              "    <tr>\n",
              "      <th>min</th>\n",
              "      <td>18.022083</td>\n",
              "      <td>-0.116667</td>\n",
              "      <td>11.000000</td>\n",
              "      <td>0.000000</td>\n",
              "      <td>0.000000</td>\n",
              "      <td>0.000000</td>\n",
              "      <td>0.000000</td>\n",
              "      <td>0.777778</td>\n",
              "      <td>0.000000</td>\n",
              "    </tr>\n",
              "    <tr>\n",
              "      <th>25%</th>\n",
              "      <td>51.942804</td>\n",
              "      <td>4.739583</td>\n",
              "      <td>3601.000000</td>\n",
              "      <td>75.000000</td>\n",
              "      <td>69.000000</td>\n",
              "      <td>96.000000</td>\n",
              "      <td>14.000000</td>\n",
              "      <td>36.444401</td>\n",
              "      <td>0.000000</td>\n",
              "    </tr>\n",
              "    <tr>\n",
              "      <th>50%</th>\n",
              "      <td>64.843536</td>\n",
              "      <td>7.865972</td>\n",
              "      <td>3951.000000</td>\n",
              "      <td>87.000000</td>\n",
              "      <td>80.000000</td>\n",
              "      <td>98.000000</td>\n",
              "      <td>18.000000</td>\n",
              "      <td>36.666670</td>\n",
              "      <td>0.000000</td>\n",
              "    </tr>\n",
              "    <tr>\n",
              "      <th>75%</th>\n",
              "      <td>77.225612</td>\n",
              "      <td>13.505556</td>\n",
              "      <td>8102.000000</td>\n",
              "      <td>100.000000</td>\n",
              "      <td>92.333298</td>\n",
              "      <td>100.000000</td>\n",
              "      <td>22.000000</td>\n",
              "      <td>36.666670</td>\n",
              "      <td>0.000000</td>\n",
              "    </tr>\n",
              "    <tr>\n",
              "      <th>max</th>\n",
              "      <td>100.280859</td>\n",
              "      <td>202.762500</td>\n",
              "      <td>9978.000000</td>\n",
              "      <td>941.000000</td>\n",
              "      <td>120130.030000</td>\n",
              "      <td>100.000000</td>\n",
              "      <td>160.000000</td>\n",
              "      <td>40.833302</td>\n",
              "      <td>1.000000</td>\n",
              "    </tr>\n",
              "  </tbody>\n",
              "</table>\n",
              "</div>"
            ],
            "text/plain": [
              "                age           los  ...          temp         Label\n",
              "count  20883.000000  20883.000000  ...  20883.000000  20883.000000\n",
              "mean      63.304587     10.967243  ...     33.622603      0.121391\n",
              "std       17.304137     10.737337  ...     10.019697      0.326588\n",
              "min       18.022083     -0.116667  ...      0.777778      0.000000\n",
              "25%       51.942804      4.739583  ...     36.444401      0.000000\n",
              "50%       64.843536      7.865972  ...     36.666670      0.000000\n",
              "75%       77.225612     13.505556  ...     36.666670      0.000000\n",
              "max      100.280859    202.762500  ...     40.833302      1.000000\n",
              "\n",
              "[8 rows x 9 columns]"
            ]
          },
          "execution_count": 39,
          "metadata": {},
          "output_type": "execute_result"
        }
      ],
      "source": [
        "df.describe() # describe the numerical features "
      ]
    },
    {
      "cell_type": "code",
      "execution_count": 40,
      "metadata": {
        "colab": {
          "base_uri": "https://localhost:8080/"
        },
        "id": "Xv-XtGYiWR9e",
        "outputId": "67bfb4a2-f7be-4a97-ca54-84f7205f1a2b"
      },
      "outputs": [
        {
          "data": {
            "text/plain": [
              "Index(['age', 'gender', 'los', 'discharge_location', 'insurance', 'ethnicity',\n",
              "       'icd9_code_1', 'hr', 'nbp', 'spo2', 'rr', 'temp', 'Label',\n",
              "       'num_unique_icd9_codes_bin', 'Medication_count_bin'],\n",
              "      dtype='object')"
            ]
          },
          "execution_count": 40,
          "metadata": {},
          "output_type": "execute_result"
        }
      ],
      "source": [
        "df.keys()"
      ]
    },
    {
      "cell_type": "markdown",
      "metadata": {},
      "source": [
        "This shows our final list of features: Age, Gender, Length of Stay (LoS), Discharge Location, Insurance, Ethnicity, ICD9_Code_1 (1st diagnostic code given), Heart Rate (HR), NBP (Blood Pressure), SPO2 (Blood oxygenation %), Respiratory Rate (RR), Temperature (Temp), Num_unique_icd9_codes_bin (How many different diagnosis codes were given), Medication_count (how many medications taken), and finally the 'Label' category which is 0 for non-high frequency user and 1 for a high frequency user."
      ]
    },
    {
      "cell_type": "markdown",
      "metadata": {},
      "source": [
        "### Categorical Data Handling \n",
        "\n",
        "Of course, our dataset isn't just numerical, there are categorical data that we should handle proplerly. Here I've used SciKitLearn's Label Encoder to encode the following categorical features into integer values which I'll specify as categorical later on for XGBoost. \n",
        "\n",
        "I'm also thinking of doing One Hot Encoding for this but some feature have really high cardinality, which'll just really stretch my feature space and increase my dataset size, so I kept it as integer values for now. "
      ]
    },
    {
      "cell_type": "code",
      "execution_count": 41,
      "metadata": {
        "id": "BWQsgoTbe2aj"
      },
      "outputs": [],
      "source": [
        "categ_columns = ['gender','discharge_location','insurance','ethnicity',\n",
        "                      'icd9_code_1','num_unique_icd9_codes_bin','Medication_count_bin']\n",
        "\n",
        "from sklearn.preprocessing import LabelEncoder\n",
        "\n",
        "label_encoders = {}\n",
        "for column in categ_columns:\n",
        "  label_encoder = LabelEncoder()\n",
        "  df[column] = label_encoder.fit_transform(df[column])\n",
        "  label_encoders[column] = label_encoder\n"
      ]
    },
    {
      "cell_type": "markdown",
      "metadata": {},
      "source": [
        "Split into X and Y "
      ]
    },
    {
      "cell_type": "code",
      "execution_count": 42,
      "metadata": {
        "id": "_YKd5w41WTg5"
      },
      "outputs": [],
      "source": [
        "# split into X and y\n",
        "y_df = df['Label']\n",
        "y_df.columns = ['Label']"
      ]
    },
    {
      "cell_type": "markdown",
      "metadata": {},
      "source": [
        "Perform numerical feature scaling, and outlier rejection using IQR rule (Outlier = 1.5 * IQR)"
      ]
    },
    {
      "cell_type": "code",
      "execution_count": 43,
      "metadata": {
        "colab": {
          "base_uri": "https://localhost:8080/",
          "height": 424
        },
        "id": "yKrznNDpWWhm",
        "outputId": "3292139a-15d2-4669-b98b-922e06ffd95d"
      },
      "outputs": [
        {
          "data": {
            "application/vnd.microsoft.datawrangler.viewer.v0+json": {
              "columns": [
                {
                  "name": "index",
                  "rawType": "int64",
                  "type": "integer"
                },
                {
                  "name": "age",
                  "rawType": "float64",
                  "type": "float"
                },
                {
                  "name": "los",
                  "rawType": "float64",
                  "type": "float"
                },
                {
                  "name": "hr",
                  "rawType": "float64",
                  "type": "float"
                },
                {
                  "name": "nbp",
                  "rawType": "float64",
                  "type": "float"
                },
                {
                  "name": "spo2",
                  "rawType": "float64",
                  "type": "float"
                },
                {
                  "name": "rr",
                  "rawType": "float64",
                  "type": "float"
                },
                {
                  "name": "temp",
                  "rawType": "float64",
                  "type": "float"
                }
              ],
              "conversionMethod": "pd.DataFrame",
              "ref": "b8328316-a615-4953-815d-53a16075d511",
              "rows": [
                [
                  "0",
                  "76.52678833",
                  "10.78472222",
                  "95.0",
                  "36.66669846",
                  "98.0",
                  "16.0",
                  "36.05559921"
                ],
                [
                  "1",
                  "47.84504368",
                  "7.759027778",
                  "111.0",
                  "80.66670227",
                  "98.0",
                  "18.0",
                  "37.44440079"
                ],
                [
                  "2",
                  "50.14829209",
                  "25.52916667",
                  "90.0",
                  "64.0",
                  "96.0",
                  "19.0",
                  "37.22219849"
                ],
                [
                  "3",
                  "39.86611578",
                  "6.855555556",
                  "80.0",
                  "71.33329773",
                  "98.0",
                  "19.0",
                  "37.27780151"
                ],
                [
                  "5",
                  "50.84155391",
                  "2.20625",
                  "95.0",
                  "113.6669998",
                  "100.0",
                  "27.0",
                  "37.66669846"
                ],
                [
                  "7",
                  "87.43931915",
                  "13.16527778",
                  "84.0",
                  "75.33329773",
                  "100.0",
                  "21.0",
                  "37.11109924"
                ],
                [
                  "8",
                  "64.92823404",
                  "1.144444444",
                  "85.0",
                  "86.66670227",
                  "100.0",
                  "18.0",
                  "36.44440079"
                ],
                [
                  "9",
                  "75.25644717",
                  "6.768055556",
                  "77.0",
                  "50.0",
                  "100.0",
                  "14.0",
                  "36.66667"
                ],
                [
                  "11",
                  "58.95019603",
                  "3.534027778",
                  "72.0",
                  "72.66670227",
                  "95.0",
                  "21.0",
                  "36.72219849"
                ],
                [
                  "12",
                  "72.00605656",
                  "6.988888889",
                  "61.0",
                  "64.0",
                  "98.0",
                  "20.0",
                  "37.22219849"
                ],
                [
                  "13",
                  "90.00272460000002",
                  "5.013888889",
                  "87.0",
                  "88.0",
                  "96.0",
                  "21.0",
                  "36.05559921"
                ],
                [
                  "15",
                  "90.0030079",
                  "1.968055556",
                  "73.0",
                  "102.3330002",
                  "93.0",
                  "20.0",
                  "36.27780151"
                ],
                [
                  "16",
                  "94.60413729999999",
                  "2.622916667",
                  "72.0",
                  "78.0",
                  "98.0",
                  "14.0",
                  "36.27780151"
                ],
                [
                  "18",
                  "69.7341097",
                  "12.73680556",
                  "127.0",
                  "70.0",
                  "98.0",
                  "15.0",
                  "36.0"
                ],
                [
                  "19",
                  "68.9288198",
                  "5.0875",
                  "91.0",
                  "68.33329773",
                  "97.0",
                  "22.0",
                  "38.16669846"
                ],
                [
                  "20",
                  "75.94148385",
                  "25.45972222",
                  "104.0",
                  "61.0",
                  "100.0",
                  "26.0",
                  "34.61109924"
                ],
                [
                  "21",
                  "61.16708998",
                  "3.970833333",
                  "72.0",
                  "99.0",
                  "97.0",
                  "17.0",
                  "35.72219849"
                ],
                [
                  "22",
                  "32.76996827",
                  "9.78125",
                  "89.0",
                  "87.66670227",
                  "99.0",
                  "17.0",
                  "37.44440079"
                ],
                [
                  "23",
                  "80.18453442",
                  "7.847916667",
                  "74.0",
                  "62.66669846",
                  "100.0",
                  "12.0",
                  "37.66669846"
                ],
                [
                  "24",
                  "42.40482262",
                  "10.58819444",
                  "89.0",
                  "102.0",
                  "100.0",
                  "12.0",
                  "37.11109924"
                ],
                [
                  "25",
                  "73.99960734",
                  "3.847916667",
                  "107.0",
                  "80.0",
                  "100.0",
                  "20.0",
                  "36.72219849"
                ],
                [
                  "26",
                  "38.12292033",
                  "9.581944444",
                  "96.0",
                  "87.0",
                  "95.0",
                  "18.0",
                  "37.44440079"
                ],
                [
                  "27",
                  "45.55294085",
                  "2.902777778",
                  "71.0",
                  "91.66670227",
                  "95.0",
                  "18.0",
                  "36.11109924"
                ],
                [
                  "28",
                  "64.16232061",
                  "1.829861111",
                  "81.0",
                  "107.6669998",
                  "98.0",
                  "18.0",
                  "36.44440079"
                ],
                [
                  "29",
                  "87.09489378",
                  "4.982638889",
                  "66.0",
                  "89.33329773",
                  "100.0",
                  "17.0",
                  "36.5"
                ],
                [
                  "30",
                  "68.77361638",
                  "4.632638889",
                  "64.0",
                  "70.66670227",
                  "99.0",
                  "28.0",
                  "35.88890076"
                ],
                [
                  "31",
                  "88.5031743",
                  "0.520833333",
                  "73.0",
                  "99.0",
                  "97.0",
                  "16.0",
                  "36.27780151"
                ],
                [
                  "32",
                  "26.68201456",
                  "15.15",
                  "88.0",
                  "76.66670227",
                  "94.0",
                  "18.0",
                  "36.44440079"
                ],
                [
                  "33",
                  "26.56403342",
                  "10.35694444",
                  "92.0",
                  "95.0",
                  "100.0",
                  "19.0",
                  "36.72219849"
                ],
                [
                  "35",
                  "41.79606337",
                  "19.09305556",
                  "138.0",
                  "60.33330154",
                  "98.0",
                  "30.0",
                  "37.55559921"
                ],
                [
                  "36",
                  "41.85151557",
                  "14.54791667",
                  "130.0",
                  "71.0",
                  "96.0",
                  "32.0",
                  "35.33330154"
                ],
                [
                  "37",
                  "36.50708716",
                  "4.661805556",
                  "135.0",
                  "69.66670227",
                  "99.0",
                  "20.0",
                  "35.72219849"
                ],
                [
                  "38",
                  "57.58649973",
                  "4.491666667",
                  "94.0",
                  "76.66670227",
                  "100.0",
                  "26.0",
                  "36.44440079"
                ],
                [
                  "39",
                  "45.52404068",
                  "2.3125",
                  "91.0",
                  "110.0",
                  "99.0",
                  "20.0",
                  "36.27780151"
                ],
                [
                  "40",
                  "48.62532543",
                  "3.913888889",
                  "65.0",
                  "138.3329926",
                  "100.0",
                  "16.0",
                  "36.83330154"
                ],
                [
                  "42",
                  "43.91474237",
                  "4.986805556",
                  "58.0",
                  "87.0",
                  "100.0",
                  "15.0",
                  "35.33330154"
                ],
                [
                  "44",
                  "65.54154126",
                  "7.091666667",
                  "55.0",
                  "55.66669846",
                  "99.0",
                  "14.0",
                  "35.0"
                ],
                [
                  "45",
                  "71.45286169",
                  "7.965972222",
                  "91.0",
                  "79.0",
                  "100.0",
                  "12.0",
                  "37.38890076"
                ],
                [
                  "46",
                  "76.84982567",
                  "4.857638889",
                  "136.0",
                  "99.0",
                  "99.0",
                  "39.0",
                  "37.38890076"
                ],
                [
                  "47",
                  "28.65805982",
                  "5.472916667",
                  "107.0",
                  "83.66670227",
                  "100.0",
                  "9.0",
                  "35.72219849"
                ],
                [
                  "48",
                  "74.43476023",
                  "4.038888889",
                  "77.0",
                  "85.33329773",
                  "100.0",
                  "13.0",
                  "37.66669846"
                ],
                [
                  "49",
                  "74.95468377",
                  "22.95347222",
                  "111.0",
                  "83.33329773",
                  "98.0",
                  "25.0",
                  "36.11109924"
                ],
                [
                  "50",
                  "44.16164108",
                  "1.95625",
                  "76.0",
                  "89.0",
                  "98.0",
                  "18.0",
                  "36.66669846"
                ],
                [
                  "51",
                  "38.4968714",
                  "28.95416667",
                  "117.0",
                  "54.33330154",
                  "100.0",
                  "17.0",
                  "37.66669846"
                ],
                [
                  "52",
                  "73.38867297",
                  "7.947222222",
                  "91.0",
                  "78.0",
                  "100.0",
                  "13.0",
                  "37.33330154"
                ],
                [
                  "53",
                  "73.31517718",
                  "5.857638889",
                  "88.0",
                  "71.66670227",
                  "99.0",
                  "11.0",
                  "35.66669846"
                ],
                [
                  "54",
                  "60.32913528",
                  "7.734722222",
                  "47.0",
                  "86.66670227",
                  "96.0",
                  "16.0",
                  "36.16669846"
                ],
                [
                  "57",
                  "62.88635153",
                  "0.950694444",
                  "56.0",
                  "85.33329773",
                  "98.0",
                  "16.0",
                  "36.88890076"
                ],
                [
                  "58",
                  "69.66287649",
                  "4.7875",
                  "64.0",
                  "88.0",
                  "97.0",
                  "19.0",
                  "36.88890076"
                ],
                [
                  "59",
                  "70.11465648",
                  "3.815277778",
                  "70.0",
                  "37.0",
                  "99.0",
                  "15.0",
                  "36.88890076"
                ]
              ],
              "shape": {
                "columns": 7,
                "rows": 20883
              }
            },
            "text/html": [
              "<div>\n",
              "<style scoped>\n",
              "    .dataframe tbody tr th:only-of-type {\n",
              "        vertical-align: middle;\n",
              "    }\n",
              "\n",
              "    .dataframe tbody tr th {\n",
              "        vertical-align: top;\n",
              "    }\n",
              "\n",
              "    .dataframe thead th {\n",
              "        text-align: right;\n",
              "    }\n",
              "</style>\n",
              "<table border=\"1\" class=\"dataframe\">\n",
              "  <thead>\n",
              "    <tr style=\"text-align: right;\">\n",
              "      <th></th>\n",
              "      <th>age</th>\n",
              "      <th>los</th>\n",
              "      <th>hr</th>\n",
              "      <th>nbp</th>\n",
              "      <th>spo2</th>\n",
              "      <th>rr</th>\n",
              "      <th>temp</th>\n",
              "    </tr>\n",
              "  </thead>\n",
              "  <tbody>\n",
              "    <tr>\n",
              "      <th>0</th>\n",
              "      <td>76.526788</td>\n",
              "      <td>10.784722</td>\n",
              "      <td>95.0</td>\n",
              "      <td>36.666698</td>\n",
              "      <td>98.0</td>\n",
              "      <td>16.0</td>\n",
              "      <td>36.055599</td>\n",
              "    </tr>\n",
              "    <tr>\n",
              "      <th>1</th>\n",
              "      <td>47.845044</td>\n",
              "      <td>7.759028</td>\n",
              "      <td>111.0</td>\n",
              "      <td>80.666702</td>\n",
              "      <td>98.0</td>\n",
              "      <td>18.0</td>\n",
              "      <td>37.444401</td>\n",
              "    </tr>\n",
              "    <tr>\n",
              "      <th>2</th>\n",
              "      <td>50.148292</td>\n",
              "      <td>25.529167</td>\n",
              "      <td>90.0</td>\n",
              "      <td>64.000000</td>\n",
              "      <td>96.0</td>\n",
              "      <td>19.0</td>\n",
              "      <td>37.222198</td>\n",
              "    </tr>\n",
              "    <tr>\n",
              "      <th>3</th>\n",
              "      <td>39.866116</td>\n",
              "      <td>6.855556</td>\n",
              "      <td>80.0</td>\n",
              "      <td>71.333298</td>\n",
              "      <td>98.0</td>\n",
              "      <td>19.0</td>\n",
              "      <td>37.277802</td>\n",
              "    </tr>\n",
              "    <tr>\n",
              "      <th>5</th>\n",
              "      <td>50.841554</td>\n",
              "      <td>2.206250</td>\n",
              "      <td>95.0</td>\n",
              "      <td>113.667000</td>\n",
              "      <td>100.0</td>\n",
              "      <td>27.0</td>\n",
              "      <td>37.666698</td>\n",
              "    </tr>\n",
              "    <tr>\n",
              "      <th>...</th>\n",
              "      <td>...</td>\n",
              "      <td>...</td>\n",
              "      <td>...</td>\n",
              "      <td>...</td>\n",
              "      <td>...</td>\n",
              "      <td>...</td>\n",
              "      <td>...</td>\n",
              "    </tr>\n",
              "    <tr>\n",
              "      <th>26171</th>\n",
              "      <td>65.262831</td>\n",
              "      <td>6.814583</td>\n",
              "      <td>71.0</td>\n",
              "      <td>66.000000</td>\n",
              "      <td>95.0</td>\n",
              "      <td>18.0</td>\n",
              "      <td>36.666670</td>\n",
              "    </tr>\n",
              "    <tr>\n",
              "      <th>26172</th>\n",
              "      <td>65.377831</td>\n",
              "      <td>6.128472</td>\n",
              "      <td>94.0</td>\n",
              "      <td>71.000000</td>\n",
              "      <td>99.0</td>\n",
              "      <td>21.0</td>\n",
              "      <td>36.666670</td>\n",
              "    </tr>\n",
              "    <tr>\n",
              "      <th>26173</th>\n",
              "      <td>78.576622</td>\n",
              "      <td>3.079861</td>\n",
              "      <td>69.0</td>\n",
              "      <td>82.000000</td>\n",
              "      <td>98.0</td>\n",
              "      <td>21.0</td>\n",
              "      <td>36.666670</td>\n",
              "    </tr>\n",
              "    <tr>\n",
              "      <th>26174</th>\n",
              "      <td>53.808478</td>\n",
              "      <td>16.595833</td>\n",
              "      <td>118.0</td>\n",
              "      <td>102.000000</td>\n",
              "      <td>84.0</td>\n",
              "      <td>33.0</td>\n",
              "      <td>36.666670</td>\n",
              "    </tr>\n",
              "    <tr>\n",
              "      <th>26175</th>\n",
              "      <td>65.772151</td>\n",
              "      <td>2.995139</td>\n",
              "      <td>69.0</td>\n",
              "      <td>69.000000</td>\n",
              "      <td>95.0</td>\n",
              "      <td>20.0</td>\n",
              "      <td>36.666670</td>\n",
              "    </tr>\n",
              "  </tbody>\n",
              "</table>\n",
              "<p>20883 rows × 7 columns</p>\n",
              "</div>"
            ],
            "text/plain": [
              "             age        los     hr         nbp   spo2    rr       temp\n",
              "0      76.526788  10.784722   95.0   36.666698   98.0  16.0  36.055599\n",
              "1      47.845044   7.759028  111.0   80.666702   98.0  18.0  37.444401\n",
              "2      50.148292  25.529167   90.0   64.000000   96.0  19.0  37.222198\n",
              "3      39.866116   6.855556   80.0   71.333298   98.0  19.0  37.277802\n",
              "5      50.841554   2.206250   95.0  113.667000  100.0  27.0  37.666698\n",
              "...          ...        ...    ...         ...    ...   ...        ...\n",
              "26171  65.262831   6.814583   71.0   66.000000   95.0  18.0  36.666670\n",
              "26172  65.377831   6.128472   94.0   71.000000   99.0  21.0  36.666670\n",
              "26173  78.576622   3.079861   69.0   82.000000   98.0  21.0  36.666670\n",
              "26174  53.808478  16.595833  118.0  102.000000   84.0  33.0  36.666670\n",
              "26175  65.772151   2.995139   69.0   69.000000   95.0  20.0  36.666670\n",
              "\n",
              "[20883 rows x 7 columns]"
            ]
          },
          "execution_count": 43,
          "metadata": {},
          "output_type": "execute_result"
        }
      ],
      "source": [
        "# Split X numerical and Categorical\n",
        "x_df = df.copy()\n",
        "\n",
        "#x_df_cat = x_df[['gender','discharge_location','insurance','ethnicity',\n",
        "               # 'icd9_code_1','num_unique_icd9_codes_bin','Medication_count_bin']].copy()\n",
        "\n",
        "x_df_cat = pd.get_dummies(df[['discharge_location','insurance','ethnicity','icd9_code_1','gender', 'Medication_count_bin', 'num_unique_icd9_codes_bin']])\n",
        "\n",
        "x_df_num = x_df.drop(['gender','discharge_location','insurance','ethnicity',\n",
        "                      'icd9_code_1','Label','num_unique_icd9_codes_bin','Medication_count_bin'], axis = 1).astype('float64')\n",
        "x_df_num"
      ]
    },
    {
      "cell_type": "code",
      "execution_count": 44,
      "metadata": {
        "id": "q3mR4drxiwI5"
      },
      "outputs": [],
      "source": [
        "# numerical is under x_df_num\n",
        "X_numerical = x_df_num"
      ]
    },
    {
      "cell_type": "code",
      "execution_count": 45,
      "metadata": {
        "colab": {
          "base_uri": "https://localhost:8080/"
        },
        "id": "n6WaX-9yWvr-",
        "outputId": "2c7fb422-9d8b-4117-e531-900796c0c242"
      },
      "outputs": [
        {
          "name": "stdout",
          "output_type": "stream",
          "text": [
            "20883 20883 20883\n"
          ]
        }
      ],
      "source": [
        "print(len(x_df), len(y_df), len(x_df_num))"
      ]
    },
    {
      "cell_type": "code",
      "execution_count": 46,
      "metadata": {
        "colab": {
          "base_uri": "https://localhost:8080/"
        },
        "id": "zmd9Z7SCjkPb",
        "outputId": "6e2e8438-4ec0-403e-b8d3-4d693f9c414b"
      },
      "outputs": [
        {
          "data": {
            "text/plain": [
              "Index(['age', 'los', 'hr', 'nbp', 'spo2', 'rr', 'temp'], dtype='object')"
            ]
          },
          "execution_count": 46,
          "metadata": {},
          "output_type": "execute_result"
        }
      ],
      "source": [
        "list_numerical = X_numerical.columns\n",
        "list_numerical"
      ]
    },
    {
      "cell_type": "code",
      "execution_count": 47,
      "metadata": {
        "colab": {
          "base_uri": "https://localhost:8080/"
        },
        "id": "m-ud3mLIWXTI",
        "outputId": "cb49c4a4-3fe2-495f-ffe9-94b650d8acf2"
      },
      "outputs": [
        {
          "name": "stdout",
          "output_type": "stream",
          "text": [
            "CATEGORICAL KEYS discharge_location\n",
            "CATEGORICAL KEYS insurance\n",
            "CATEGORICAL KEYS ethnicity\n",
            "CATEGORICAL KEYS icd9_code_1\n",
            "CATEGORICAL KEYS gender\n",
            "CATEGORICAL KEYS Medication_count_bin\n",
            "CATEGORICAL KEYS num_unique_icd9_codes_bin\n",
            "NUMERIC KEYS age\n",
            "NUMERIC KEYS los\n",
            "NUMERIC KEYS hr\n",
            "NUMERIC KEYS nbp\n",
            "NUMERIC KEYS spo2\n",
            "NUMERIC KEYS rr\n",
            "NUMERIC KEYS temp\n"
          ]
        }
      ],
      "source": [
        "for key in x_df_cat.keys():\n",
        "    print('CATEGORICAL KEYS', key)\n",
        "\n",
        "for key in x_df_num.keys():\n",
        "    print('NUMERIC KEYS',key)"
      ]
    },
    {
      "cell_type": "code",
      "execution_count": 48,
      "metadata": {
        "id": "fj_QxyN-Wkif"
      },
      "outputs": [],
      "source": [
        "# Scale numerical features\n",
        "scaled_x_df_num = pd.DataFrame(StandardScaler().fit_transform(x_df_num), columns = x_df_num.keys())"
      ]
    },
    {
      "cell_type": "markdown",
      "metadata": {},
      "source": [
        "With FeatureScaling and StandardScaler(), the mean of each numerical variable across the dataset is standardized to having a 0 mean and a stdev of 1, which we can see below. (Don't worry about the Xe-18, these values are float point values which are realistically 0)"
      ]
    },
    {
      "cell_type": "code",
      "execution_count": 49,
      "metadata": {
        "colab": {
          "base_uri": "https://localhost:8080/",
          "height": 300
        },
        "id": "Dq7ZTVVPWn-D",
        "outputId": "6d995e19-506e-49e8-9f6d-1a1b0aeb6481"
      },
      "outputs": [
        {
          "data": {
            "application/vnd.microsoft.datawrangler.viewer.v0+json": {
              "columns": [
                {
                  "name": "index",
                  "rawType": "object",
                  "type": "string"
                },
                {
                  "name": "age",
                  "rawType": "float64",
                  "type": "float"
                },
                {
                  "name": "los",
                  "rawType": "float64",
                  "type": "float"
                },
                {
                  "name": "hr",
                  "rawType": "float64",
                  "type": "float"
                },
                {
                  "name": "nbp",
                  "rawType": "float64",
                  "type": "float"
                },
                {
                  "name": "spo2",
                  "rawType": "float64",
                  "type": "float"
                },
                {
                  "name": "rr",
                  "rawType": "float64",
                  "type": "float"
                },
                {
                  "name": "temp",
                  "rawType": "float64",
                  "type": "float"
                }
              ],
              "conversionMethod": "pd.DataFrame",
              "ref": "d4eae9cc-1580-43cb-9023-83f61b9c1524",
              "rows": [
                [
                  "count",
                  "20883.0",
                  "20883.0",
                  "20883.0",
                  "20883.0",
                  "20883.0",
                  "20883.0",
                  "20883.0"
                ],
                [
                  "mean",
                  "-5.335109944317565e-16",
                  "-1.2248976912974e-16",
                  "-1.742076716511858e-16",
                  "-1.360997434774889e-18",
                  "2.6539449978110336e-17",
                  "-2.0414961521623335e-16",
                  "6.532787686919467e-16"
                ],
                [
                  "std",
                  "1.0000239437800083",
                  "1.000023943780008",
                  "1.000023943780008",
                  "1.000023943780008",
                  "1.000023943780008",
                  "1.000023943780008",
                  "1.0000239437800078"
                ],
                [
                  "min",
                  "-2.616922756498685",
                  "-1.0323019999049277",
                  "-4.299632975145248",
                  "-0.10549463400031392",
                  "-20.989787421696526",
                  "-2.9851220185623295",
                  "-3.2781041942804774"
                ],
                [
                  "25%",
                  "-0.6566091828005074",
                  "-0.5800142393841368",
                  "-0.6563940755840051",
                  "-0.022565081179511448",
                  "-0.2717120571973477",
                  "-0.7281291909061485",
                  "0.2816317772616432"
                ],
                [
                  "50%",
                  "0.08893741472472758",
                  "-0.28883742007887836",
                  "-0.07347585165420631",
                  "-0.009344427831267576",
                  "0.1599145128963852",
                  "-0.0832740972900968",
                  "0.30381553453816385"
                ],
                [
                  "75%",
                  "0.8045104371068512",
                  "0.2364062387014077",
                  "0.5580188909364091",
                  "0.005478686162279062",
                  "0.5915410829901181",
                  "0.5615809963259549",
                  "0.30381553453816385"
                ],
                [
                  "max",
                  "2.136896951846456",
                  "17.86288748554045",
                  "41.410871084683144",
                  "144.2760947609212",
                  "0.5915410829901181",
                  "22.80908172607974",
                  "0.7196695466348246"
                ]
              ],
              "shape": {
                "columns": 7,
                "rows": 8
              }
            },
            "text/html": [
              "<div>\n",
              "<style scoped>\n",
              "    .dataframe tbody tr th:only-of-type {\n",
              "        vertical-align: middle;\n",
              "    }\n",
              "\n",
              "    .dataframe tbody tr th {\n",
              "        vertical-align: top;\n",
              "    }\n",
              "\n",
              "    .dataframe thead th {\n",
              "        text-align: right;\n",
              "    }\n",
              "</style>\n",
              "<table border=\"1\" class=\"dataframe\">\n",
              "  <thead>\n",
              "    <tr style=\"text-align: right;\">\n",
              "      <th></th>\n",
              "      <th>age</th>\n",
              "      <th>los</th>\n",
              "      <th>hr</th>\n",
              "      <th>nbp</th>\n",
              "      <th>spo2</th>\n",
              "      <th>rr</th>\n",
              "      <th>temp</th>\n",
              "    </tr>\n",
              "  </thead>\n",
              "  <tbody>\n",
              "    <tr>\n",
              "      <th>count</th>\n",
              "      <td>2.088300e+04</td>\n",
              "      <td>2.088300e+04</td>\n",
              "      <td>2.088300e+04</td>\n",
              "      <td>2.088300e+04</td>\n",
              "      <td>2.088300e+04</td>\n",
              "      <td>2.088300e+04</td>\n",
              "      <td>2.088300e+04</td>\n",
              "    </tr>\n",
              "    <tr>\n",
              "      <th>mean</th>\n",
              "      <td>-5.335110e-16</td>\n",
              "      <td>-1.224898e-16</td>\n",
              "      <td>-1.742077e-16</td>\n",
              "      <td>-1.360997e-18</td>\n",
              "      <td>2.653945e-17</td>\n",
              "      <td>-2.041496e-16</td>\n",
              "      <td>6.532788e-16</td>\n",
              "    </tr>\n",
              "    <tr>\n",
              "      <th>std</th>\n",
              "      <td>1.000024e+00</td>\n",
              "      <td>1.000024e+00</td>\n",
              "      <td>1.000024e+00</td>\n",
              "      <td>1.000024e+00</td>\n",
              "      <td>1.000024e+00</td>\n",
              "      <td>1.000024e+00</td>\n",
              "      <td>1.000024e+00</td>\n",
              "    </tr>\n",
              "    <tr>\n",
              "      <th>min</th>\n",
              "      <td>-2.616923e+00</td>\n",
              "      <td>-1.032302e+00</td>\n",
              "      <td>-4.299633e+00</td>\n",
              "      <td>-1.054946e-01</td>\n",
              "      <td>-2.098979e+01</td>\n",
              "      <td>-2.985122e+00</td>\n",
              "      <td>-3.278104e+00</td>\n",
              "    </tr>\n",
              "    <tr>\n",
              "      <th>25%</th>\n",
              "      <td>-6.566092e-01</td>\n",
              "      <td>-5.800142e-01</td>\n",
              "      <td>-6.563941e-01</td>\n",
              "      <td>-2.256508e-02</td>\n",
              "      <td>-2.717121e-01</td>\n",
              "      <td>-7.281292e-01</td>\n",
              "      <td>2.816318e-01</td>\n",
              "    </tr>\n",
              "    <tr>\n",
              "      <th>50%</th>\n",
              "      <td>8.893741e-02</td>\n",
              "      <td>-2.888374e-01</td>\n",
              "      <td>-7.347585e-02</td>\n",
              "      <td>-9.344428e-03</td>\n",
              "      <td>1.599145e-01</td>\n",
              "      <td>-8.327410e-02</td>\n",
              "      <td>3.038155e-01</td>\n",
              "    </tr>\n",
              "    <tr>\n",
              "      <th>75%</th>\n",
              "      <td>8.045104e-01</td>\n",
              "      <td>2.364062e-01</td>\n",
              "      <td>5.580189e-01</td>\n",
              "      <td>5.478686e-03</td>\n",
              "      <td>5.915411e-01</td>\n",
              "      <td>5.615810e-01</td>\n",
              "      <td>3.038155e-01</td>\n",
              "    </tr>\n",
              "    <tr>\n",
              "      <th>max</th>\n",
              "      <td>2.136897e+00</td>\n",
              "      <td>1.786289e+01</td>\n",
              "      <td>4.141087e+01</td>\n",
              "      <td>1.442761e+02</td>\n",
              "      <td>5.915411e-01</td>\n",
              "      <td>2.280908e+01</td>\n",
              "      <td>7.196695e-01</td>\n",
              "    </tr>\n",
              "  </tbody>\n",
              "</table>\n",
              "</div>"
            ],
            "text/plain": [
              "                age           los  ...            rr          temp\n",
              "count  2.088300e+04  2.088300e+04  ...  2.088300e+04  2.088300e+04\n",
              "mean  -5.335110e-16 -1.224898e-16  ... -2.041496e-16  6.532788e-16\n",
              "std    1.000024e+00  1.000024e+00  ...  1.000024e+00  1.000024e+00\n",
              "min   -2.616923e+00 -1.032302e+00  ... -2.985122e+00 -3.278104e+00\n",
              "25%   -6.566092e-01 -5.800142e-01  ... -7.281292e-01  2.816318e-01\n",
              "50%    8.893741e-02 -2.888374e-01  ... -8.327410e-02  3.038155e-01\n",
              "75%    8.045104e-01  2.364062e-01  ...  5.615810e-01  3.038155e-01\n",
              "max    2.136897e+00  1.786289e+01  ...  2.280908e+01  7.196695e-01\n",
              "\n",
              "[8 rows x 7 columns]"
            ]
          },
          "execution_count": 49,
          "metadata": {},
          "output_type": "execute_result"
        }
      ],
      "source": [
        "scaled_x_df_num.describe()"
      ]
    },
    {
      "cell_type": "markdown",
      "metadata": {},
      "source": [
        "Perform Outlier Rejection and use that to drop outlier indices from BOTH numerical and categorical features"
      ]
    },
    {
      "cell_type": "code",
      "execution_count": 51,
      "metadata": {
        "colab": {
          "base_uri": "https://localhost:8080/"
        },
        "id": "IuJmqHWgWqtl",
        "outputId": "fd11d0d6-91a7-4d26-90e5-385af6dbd83a"
      },
      "outputs": [
        {
          "name": "stdout",
          "output_type": "stream",
          "text": [
            "8816 outliers removed\n"
          ]
        }
      ],
      "source": [
        "# Find outliers based on 1.5*(Q3-Q1) outlier step\n",
        "outliers  = []\n",
        "# For each feature find the data points with extreme high or low values\n",
        "for feature in scaled_x_df_num.keys():\n",
        "    # Calculate Q1 (25th percentile of the data) for the given feature\n",
        "    Q1 = np.percentile(scaled_x_df_num[feature],25)\n",
        "    # Calculate Q3 (75th percentile of the data) for the given feature\n",
        "    Q3 = np.percentile(scaled_x_df_num[feature],75)\n",
        "    # Use the interquartile range to calculate an outlier step (1.5 times the interquartile range)\n",
        "    step = 1.5*(Q3-Q1)\n",
        "    outliers_per_feature = scaled_x_df_num[~((scaled_x_df_num[feature] >= Q1 - step) & (scaled_x_df_num[feature] <= Q3 + step))]\n",
        "    outliers = outliers + list(outliers_per_feature.index)\n",
        "outliers.sort()\n",
        "outliers = list(set(outliers))\n",
        "\n",
        "# Remove outliers\n",
        "clean_scaled_x_df_num = scaled_x_df_num.drop(scaled_x_df_num.index[outliers]).reset_index(drop = True)\n",
        "clean_x_df_cat = x_df_cat.drop(x_df_cat.index[outliers]).reset_index(drop = True)\n",
        "print('{} outliers removed'.format(len(outliers)))"
      ]
    },
    {
      "cell_type": "code",
      "execution_count": null,
      "metadata": {
        "id": "odELrHkA6HGP"
      },
      "outputs": [],
      "source": [
        "# Convert categorical features to \"One Hot Encoding\" vectors and drop outliers\n",
        "# clean_x_df_cat = x_df_cat.drop(x_df_cat.index[outliers]).reset_index(drop = True)\n",
        "# clean_x_df_cat_ohe = pd.get_dummies(clean_x_df_cat, drop_first=True)\n",
        "# dummies = pd.get_dummies(clean_x_df_cat)"
      ]
    },
    {
      "cell_type": "markdown",
      "metadata": {},
      "source": [
        "Recombine Categorical and Numerical features into final dataset "
      ]
    },
    {
      "cell_type": "code",
      "execution_count": 53,
      "metadata": {
        "id": "IFtTb5SrIdFB"
      },
      "outputs": [],
      "source": [
        "# Recombine scaled numerical and encoded categorical features by concatination\n",
        "x_df = pd.concat([clean_scaled_x_df_num, clean_x_df_cat], axis = 1)"
      ]
    },
    {
      "cell_type": "code",
      "execution_count": 54,
      "metadata": {
        "id": "Lk78cERI6L8W"
      },
      "outputs": [],
      "source": [
        "# Drop outliers from label Dataframe as well\n",
        "y_df = y_df.drop(y_df.index[outliers]).reset_index(drop = True)"
      ]
    },
    {
      "cell_type": "code",
      "execution_count": 55,
      "metadata": {
        "colab": {
          "base_uri": "https://localhost:8080/"
        },
        "id": "7GWs3nhGXIrd",
        "outputId": "51594fe7-2a61-487c-c282-7940fa26d67a"
      },
      "outputs": [
        {
          "name": "stdout",
          "output_type": "stream",
          "text": [
            "12067 12067\n"
          ]
        }
      ],
      "source": [
        "print(len(y_df), len(x_df))"
      ]
    },
    {
      "cell_type": "code",
      "execution_count": 56,
      "metadata": {
        "id": "Mvd4b72pXKvE"
      },
      "outputs": [],
      "source": [
        "y_df.columns = ['Label']"
      ]
    },
    {
      "cell_type": "markdown",
      "metadata": {},
      "source": [
        "Get label proportions and positive label proportion (this'll determine class weights during learning)"
      ]
    },
    {
      "cell_type": "code",
      "execution_count": 57,
      "metadata": {
        "colab": {
          "base_uri": "https://localhost:8080/"
        },
        "id": "QJ_1jTS_XO2m",
        "outputId": "f446ad52-ad28-4e6f-ecce-806c0d292367"
      },
      "outputs": [
        {
          "name": "stdout",
          "output_type": "stream",
          "text": [
            "Label\n",
            "0    10658\n",
            "1     1409\n",
            "Name: count, dtype: int64\n",
            "\n",
            "Positive label proportion: \n",
            "Label\n",
            "0    0.883235\n",
            "1    0.116765\n",
            "Name: count, dtype: float64\n"
          ]
        }
      ],
      "source": [
        "print(y_df.value_counts())\n",
        "print('\\nPositive label proportion: ')\n",
        "print(y_df.value_counts()/y_df.shape[0])"
      ]
    },
    {
      "cell_type": "code",
      "execution_count": null,
      "metadata": {
        "id": "OT9mfqLwnVZa"
      },
      "outputs": [],
      "source": [
        "# write final files to local dir\n",
        "x_df.to_csv('/content/x_df_new.csv')\n",
        "y_df.to_csv('/content/y_df_new.csv')"
      ]
    },
    {
      "cell_type": "code",
      "execution_count": null,
      "metadata": {
        "id": "kwQeLywDmRVL"
      },
      "outputs": [],
      "source": [
        "# XGBOOST TIME"
      ]
    },
    {
      "cell_type": "code",
      "execution_count": null,
      "metadata": {
        "id": "vQNRe24W_KxD"
      },
      "outputs": [],
      "source": [
        "#import all relevant libraries\n",
        "import xgboost as xgb\n",
        "from xgboost.sklearn import XGBClassifier\n",
        "from xgboost import plot_importance\n",
        "import pandas as pd\n",
        "import numpy as np\n",
        "import matplotlib.pyplot as plt\n",
        "from sklearn.model_selection import GridSearchCV, StratifiedKFold, train_test_split\n",
        "from sklearn.metrics import classification_report, confusion_matrix, precision_score, recall_score, roc_curve, auc\n",
        "# from scipy import interp\n"
      ]
    },
    {
      "cell_type": "markdown",
      "metadata": {},
      "source": [
        "Here I've imported essentially the same dataset that we made above but with the added feature of \"diagnosis\" as another categorical variable. This was done after more debate and discussion of missing the main \"diagnostic\" criteria as knew of what the patients were presenting with (ICD9 code) but we didn't have info on their diagnostic criterion. "
      ]
    },
    {
      "cell_type": "code",
      "execution_count": 58,
      "metadata": {
        "id": "G3drN9ev_aGR"
      },
      "outputs": [],
      "source": [
        "# Read preprocessed dataframes produced in notebook 2_preprocessing.ipynb\n",
        "x_df = pd.read_csv('./preprocess_output/xy_with_diagnosis/x_df.csv')\n",
        "y_df = pd.read_csv('./preprocess_output/xy_with_diagnosis/y_df.csv')"
      ]
    },
    {
      "cell_type": "code",
      "execution_count": 59,
      "metadata": {
        "colab": {
          "base_uri": "https://localhost:8080/"
        },
        "id": "Xvxis72iqUQa",
        "outputId": "d6d86ddc-142d-4f53-eaf8-f855f970e5cc"
      },
      "outputs": [
        {
          "name": "stdout",
          "output_type": "stream",
          "text": [
            "Index(['age', 'los', 'hr', 'nbp', 'spo2', 'rr', 'temp', 'discharge_location',\n",
            "       'insurance', 'ethnicity', 'icd9_code_1', 'gender',\n",
            "       'Medication_count_bin', 'diagnosis', 'num_unique_icd9_codes_bin'],\n",
            "      dtype='object')\n",
            "age                          float64\n",
            "los                          float64\n",
            "hr                           float64\n",
            "nbp                          float64\n",
            "spo2                         float64\n",
            "rr                           float64\n",
            "temp                         float64\n",
            "discharge_location             int64\n",
            "insurance                      int64\n",
            "ethnicity                      int64\n",
            "icd9_code_1                    int64\n",
            "gender                         int64\n",
            "Medication_count_bin           int64\n",
            "diagnosis                      int64\n",
            "num_unique_icd9_codes_bin      int64\n",
            "dtype: object\n"
          ]
        }
      ],
      "source": [
        "x_df = x_df.drop(columns = ['Unnamed: 0'])\n",
        "print(x_df.keys())\n",
        "print(x_df.dtypes)"
      ]
    },
    {
      "cell_type": "markdown",
      "metadata": {},
      "source": [
        "Here is where we convert the int64 values into categorical data"
      ]
    },
    {
      "cell_type": "code",
      "execution_count": 60,
      "metadata": {},
      "outputs": [
        {
          "name": "stdout",
          "output_type": "stream",
          "text": [
            "Not converted age\n",
            "Not converted los\n",
            "Not converted hr\n",
            "Not converted nbp\n",
            "Not converted spo2\n",
            "Not converted rr\n",
            "Not converted temp\n",
            "Converted discharge_location to category\n",
            "Converted insurance to category\n",
            "Converted ethnicity to category\n",
            "Converted icd9_code_1 to category\n",
            "Converted gender to category\n",
            "Converted Medication_count_bin to category\n",
            "Converted diagnosis to category\n",
            "Converted num_unique_icd9_codes_bin to category\n"
          ]
        }
      ],
      "source": [
        "# Set int64 features to categories \n",
        "for key in x_df.keys():\n",
        "    if x_df[key].dtype == 'int64':\n",
        "        x_df[key] = x_df[key].astype('category')\n",
        "        print('Converted {} to category'.format(key))\n",
        "    else:\n",
        "        print('Not converted {}'.format(key))"
      ]
    },
    {
      "cell_type": "code",
      "execution_count": 61,
      "metadata": {},
      "outputs": [
        {
          "name": "stdout",
          "output_type": "stream",
          "text": [
            "age                           float64\n",
            "los                           float64\n",
            "hr                            float64\n",
            "nbp                           float64\n",
            "spo2                          float64\n",
            "rr                            float64\n",
            "temp                          float64\n",
            "discharge_location           category\n",
            "insurance                    category\n",
            "ethnicity                    category\n",
            "icd9_code_1                  category\n",
            "gender                       category\n",
            "Medication_count_bin         category\n",
            "diagnosis                    category\n",
            "num_unique_icd9_codes_bin    category\n",
            "dtype: object\n"
          ]
        }
      ],
      "source": [
        "print(x_df.dtypes)"
      ]
    },
    {
      "cell_type": "markdown",
      "metadata": {},
      "source": [
        "Define Class weights"
      ]
    },
    {
      "cell_type": "code",
      "execution_count": 62,
      "metadata": {
        "colab": {
          "base_uri": "https://localhost:8080/"
        },
        "id": "Q1Fu1BVP_bqw",
        "outputId": "2c84101f-9da2-4b0e-9b2c-ce929992ee44"
      },
      "outputs": [
        {
          "data": {
            "text/plain": [
              "7.564229950319375"
            ]
          },
          "execution_count": 62,
          "metadata": {},
          "output_type": "execute_result"
        }
      ],
      "source": [
        "# Define the class weight scale (a hyperparameter) as the ration of negative labels to positive labels.\n",
        "# This instructs the classifier to address the class imbalance.\n",
        "class_weight = 1.*y_df.Label.value_counts()[0]/y_df.Label.value_counts()[1]\n",
        "class_weight"
      ]
    },
    {
      "cell_type": "code",
      "execution_count": 63,
      "metadata": {
        "colab": {
          "base_uri": "https://localhost:8080/",
          "height": 248
        },
        "id": "QmJrfIPO_8qL",
        "outputId": "6bd07cee-9f78-444a-e996-955c3f3133bf"
      },
      "outputs": [
        {
          "data": {
            "text/html": [
              "<style>#sk-container-id-2 {\n",
              "  /* Definition of color scheme common for light and dark mode */\n",
              "  --sklearn-color-text: #000;\n",
              "  --sklearn-color-text-muted: #666;\n",
              "  --sklearn-color-line: gray;\n",
              "  /* Definition of color scheme for unfitted estimators */\n",
              "  --sklearn-color-unfitted-level-0: #fff5e6;\n",
              "  --sklearn-color-unfitted-level-1: #f6e4d2;\n",
              "  --sklearn-color-unfitted-level-2: #ffe0b3;\n",
              "  --sklearn-color-unfitted-level-3: chocolate;\n",
              "  /* Definition of color scheme for fitted estimators */\n",
              "  --sklearn-color-fitted-level-0: #f0f8ff;\n",
              "  --sklearn-color-fitted-level-1: #d4ebff;\n",
              "  --sklearn-color-fitted-level-2: #b3dbfd;\n",
              "  --sklearn-color-fitted-level-3: cornflowerblue;\n",
              "\n",
              "  /* Specific color for light theme */\n",
              "  --sklearn-color-text-on-default-background: var(--sg-text-color, var(--theme-code-foreground, var(--jp-content-font-color1, black)));\n",
              "  --sklearn-color-background: var(--sg-background-color, var(--theme-background, var(--jp-layout-color0, white)));\n",
              "  --sklearn-color-border-box: var(--sg-text-color, var(--theme-code-foreground, var(--jp-content-font-color1, black)));\n",
              "  --sklearn-color-icon: #696969;\n",
              "\n",
              "  @media (prefers-color-scheme: dark) {\n",
              "    /* Redefinition of color scheme for dark theme */\n",
              "    --sklearn-color-text-on-default-background: var(--sg-text-color, var(--theme-code-foreground, var(--jp-content-font-color1, white)));\n",
              "    --sklearn-color-background: var(--sg-background-color, var(--theme-background, var(--jp-layout-color0, #111)));\n",
              "    --sklearn-color-border-box: var(--sg-text-color, var(--theme-code-foreground, var(--jp-content-font-color1, white)));\n",
              "    --sklearn-color-icon: #878787;\n",
              "  }\n",
              "}\n",
              "\n",
              "#sk-container-id-2 {\n",
              "  color: var(--sklearn-color-text);\n",
              "}\n",
              "\n",
              "#sk-container-id-2 pre {\n",
              "  padding: 0;\n",
              "}\n",
              "\n",
              "#sk-container-id-2 input.sk-hidden--visually {\n",
              "  border: 0;\n",
              "  clip: rect(1px 1px 1px 1px);\n",
              "  clip: rect(1px, 1px, 1px, 1px);\n",
              "  height: 1px;\n",
              "  margin: -1px;\n",
              "  overflow: hidden;\n",
              "  padding: 0;\n",
              "  position: absolute;\n",
              "  width: 1px;\n",
              "}\n",
              "\n",
              "#sk-container-id-2 div.sk-dashed-wrapped {\n",
              "  border: 1px dashed var(--sklearn-color-line);\n",
              "  margin: 0 0.4em 0.5em 0.4em;\n",
              "  box-sizing: border-box;\n",
              "  padding-bottom: 0.4em;\n",
              "  background-color: var(--sklearn-color-background);\n",
              "}\n",
              "\n",
              "#sk-container-id-2 div.sk-container {\n",
              "  /* jupyter's `normalize.less` sets `[hidden] { display: none; }`\n",
              "     but bootstrap.min.css set `[hidden] { display: none !important; }`\n",
              "     so we also need the `!important` here to be able to override the\n",
              "     default hidden behavior on the sphinx rendered scikit-learn.org.\n",
              "     See: https://github.com/scikit-learn/scikit-learn/issues/21755 */\n",
              "  display: inline-block !important;\n",
              "  position: relative;\n",
              "}\n",
              "\n",
              "#sk-container-id-2 div.sk-text-repr-fallback {\n",
              "  display: none;\n",
              "}\n",
              "\n",
              "div.sk-parallel-item,\n",
              "div.sk-serial,\n",
              "div.sk-item {\n",
              "  /* draw centered vertical line to link estimators */\n",
              "  background-image: linear-gradient(var(--sklearn-color-text-on-default-background), var(--sklearn-color-text-on-default-background));\n",
              "  background-size: 2px 100%;\n",
              "  background-repeat: no-repeat;\n",
              "  background-position: center center;\n",
              "}\n",
              "\n",
              "/* Parallel-specific style estimator block */\n",
              "\n",
              "#sk-container-id-2 div.sk-parallel-item::after {\n",
              "  content: \"\";\n",
              "  width: 100%;\n",
              "  border-bottom: 2px solid var(--sklearn-color-text-on-default-background);\n",
              "  flex-grow: 1;\n",
              "}\n",
              "\n",
              "#sk-container-id-2 div.sk-parallel {\n",
              "  display: flex;\n",
              "  align-items: stretch;\n",
              "  justify-content: center;\n",
              "  background-color: var(--sklearn-color-background);\n",
              "  position: relative;\n",
              "}\n",
              "\n",
              "#sk-container-id-2 div.sk-parallel-item {\n",
              "  display: flex;\n",
              "  flex-direction: column;\n",
              "}\n",
              "\n",
              "#sk-container-id-2 div.sk-parallel-item:first-child::after {\n",
              "  align-self: flex-end;\n",
              "  width: 50%;\n",
              "}\n",
              "\n",
              "#sk-container-id-2 div.sk-parallel-item:last-child::after {\n",
              "  align-self: flex-start;\n",
              "  width: 50%;\n",
              "}\n",
              "\n",
              "#sk-container-id-2 div.sk-parallel-item:only-child::after {\n",
              "  width: 0;\n",
              "}\n",
              "\n",
              "/* Serial-specific style estimator block */\n",
              "\n",
              "#sk-container-id-2 div.sk-serial {\n",
              "  display: flex;\n",
              "  flex-direction: column;\n",
              "  align-items: center;\n",
              "  background-color: var(--sklearn-color-background);\n",
              "  padding-right: 1em;\n",
              "  padding-left: 1em;\n",
              "}\n",
              "\n",
              "\n",
              "/* Toggleable style: style used for estimator/Pipeline/ColumnTransformer box that is\n",
              "clickable and can be expanded/collapsed.\n",
              "- Pipeline and ColumnTransformer use this feature and define the default style\n",
              "- Estimators will overwrite some part of the style using the `sk-estimator` class\n",
              "*/\n",
              "\n",
              "/* Pipeline and ColumnTransformer style (default) */\n",
              "\n",
              "#sk-container-id-2 div.sk-toggleable {\n",
              "  /* Default theme specific background. It is overwritten whether we have a\n",
              "  specific estimator or a Pipeline/ColumnTransformer */\n",
              "  background-color: var(--sklearn-color-background);\n",
              "}\n",
              "\n",
              "/* Toggleable label */\n",
              "#sk-container-id-2 label.sk-toggleable__label {\n",
              "  cursor: pointer;\n",
              "  display: flex;\n",
              "  width: 100%;\n",
              "  margin-bottom: 0;\n",
              "  padding: 0.5em;\n",
              "  box-sizing: border-box;\n",
              "  text-align: center;\n",
              "  align-items: start;\n",
              "  justify-content: space-between;\n",
              "  gap: 0.5em;\n",
              "}\n",
              "\n",
              "#sk-container-id-2 label.sk-toggleable__label .caption {\n",
              "  font-size: 0.6rem;\n",
              "  font-weight: lighter;\n",
              "  color: var(--sklearn-color-text-muted);\n",
              "}\n",
              "\n",
              "#sk-container-id-2 label.sk-toggleable__label-arrow:before {\n",
              "  /* Arrow on the left of the label */\n",
              "  content: \"▸\";\n",
              "  float: left;\n",
              "  margin-right: 0.25em;\n",
              "  color: var(--sklearn-color-icon);\n",
              "}\n",
              "\n",
              "#sk-container-id-2 label.sk-toggleable__label-arrow:hover:before {\n",
              "  color: var(--sklearn-color-text);\n",
              "}\n",
              "\n",
              "/* Toggleable content - dropdown */\n",
              "\n",
              "#sk-container-id-2 div.sk-toggleable__content {\n",
              "  max-height: 0;\n",
              "  max-width: 0;\n",
              "  overflow: hidden;\n",
              "  text-align: left;\n",
              "  /* unfitted */\n",
              "  background-color: var(--sklearn-color-unfitted-level-0);\n",
              "}\n",
              "\n",
              "#sk-container-id-2 div.sk-toggleable__content.fitted {\n",
              "  /* fitted */\n",
              "  background-color: var(--sklearn-color-fitted-level-0);\n",
              "}\n",
              "\n",
              "#sk-container-id-2 div.sk-toggleable__content pre {\n",
              "  margin: 0.2em;\n",
              "  border-radius: 0.25em;\n",
              "  color: var(--sklearn-color-text);\n",
              "  /* unfitted */\n",
              "  background-color: var(--sklearn-color-unfitted-level-0);\n",
              "}\n",
              "\n",
              "#sk-container-id-2 div.sk-toggleable__content.fitted pre {\n",
              "  /* unfitted */\n",
              "  background-color: var(--sklearn-color-fitted-level-0);\n",
              "}\n",
              "\n",
              "#sk-container-id-2 input.sk-toggleable__control:checked~div.sk-toggleable__content {\n",
              "  /* Expand drop-down */\n",
              "  max-height: 200px;\n",
              "  max-width: 100%;\n",
              "  overflow: auto;\n",
              "}\n",
              "\n",
              "#sk-container-id-2 input.sk-toggleable__control:checked~label.sk-toggleable__label-arrow:before {\n",
              "  content: \"▾\";\n",
              "}\n",
              "\n",
              "/* Pipeline/ColumnTransformer-specific style */\n",
              "\n",
              "#sk-container-id-2 div.sk-label input.sk-toggleable__control:checked~label.sk-toggleable__label {\n",
              "  color: var(--sklearn-color-text);\n",
              "  background-color: var(--sklearn-color-unfitted-level-2);\n",
              "}\n",
              "\n",
              "#sk-container-id-2 div.sk-label.fitted input.sk-toggleable__control:checked~label.sk-toggleable__label {\n",
              "  background-color: var(--sklearn-color-fitted-level-2);\n",
              "}\n",
              "\n",
              "/* Estimator-specific style */\n",
              "\n",
              "/* Colorize estimator box */\n",
              "#sk-container-id-2 div.sk-estimator input.sk-toggleable__control:checked~label.sk-toggleable__label {\n",
              "  /* unfitted */\n",
              "  background-color: var(--sklearn-color-unfitted-level-2);\n",
              "}\n",
              "\n",
              "#sk-container-id-2 div.sk-estimator.fitted input.sk-toggleable__control:checked~label.sk-toggleable__label {\n",
              "  /* fitted */\n",
              "  background-color: var(--sklearn-color-fitted-level-2);\n",
              "}\n",
              "\n",
              "#sk-container-id-2 div.sk-label label.sk-toggleable__label,\n",
              "#sk-container-id-2 div.sk-label label {\n",
              "  /* The background is the default theme color */\n",
              "  color: var(--sklearn-color-text-on-default-background);\n",
              "}\n",
              "\n",
              "/* On hover, darken the color of the background */\n",
              "#sk-container-id-2 div.sk-label:hover label.sk-toggleable__label {\n",
              "  color: var(--sklearn-color-text);\n",
              "  background-color: var(--sklearn-color-unfitted-level-2);\n",
              "}\n",
              "\n",
              "/* Label box, darken color on hover, fitted */\n",
              "#sk-container-id-2 div.sk-label.fitted:hover label.sk-toggleable__label.fitted {\n",
              "  color: var(--sklearn-color-text);\n",
              "  background-color: var(--sklearn-color-fitted-level-2);\n",
              "}\n",
              "\n",
              "/* Estimator label */\n",
              "\n",
              "#sk-container-id-2 div.sk-label label {\n",
              "  font-family: monospace;\n",
              "  font-weight: bold;\n",
              "  display: inline-block;\n",
              "  line-height: 1.2em;\n",
              "}\n",
              "\n",
              "#sk-container-id-2 div.sk-label-container {\n",
              "  text-align: center;\n",
              "}\n",
              "\n",
              "/* Estimator-specific */\n",
              "#sk-container-id-2 div.sk-estimator {\n",
              "  font-family: monospace;\n",
              "  border: 1px dotted var(--sklearn-color-border-box);\n",
              "  border-radius: 0.25em;\n",
              "  box-sizing: border-box;\n",
              "  margin-bottom: 0.5em;\n",
              "  /* unfitted */\n",
              "  background-color: var(--sklearn-color-unfitted-level-0);\n",
              "}\n",
              "\n",
              "#sk-container-id-2 div.sk-estimator.fitted {\n",
              "  /* fitted */\n",
              "  background-color: var(--sklearn-color-fitted-level-0);\n",
              "}\n",
              "\n",
              "/* on hover */\n",
              "#sk-container-id-2 div.sk-estimator:hover {\n",
              "  /* unfitted */\n",
              "  background-color: var(--sklearn-color-unfitted-level-2);\n",
              "}\n",
              "\n",
              "#sk-container-id-2 div.sk-estimator.fitted:hover {\n",
              "  /* fitted */\n",
              "  background-color: var(--sklearn-color-fitted-level-2);\n",
              "}\n",
              "\n",
              "/* Specification for estimator info (e.g. \"i\" and \"?\") */\n",
              "\n",
              "/* Common style for \"i\" and \"?\" */\n",
              "\n",
              ".sk-estimator-doc-link,\n",
              "a:link.sk-estimator-doc-link,\n",
              "a:visited.sk-estimator-doc-link {\n",
              "  float: right;\n",
              "  font-size: smaller;\n",
              "  line-height: 1em;\n",
              "  font-family: monospace;\n",
              "  background-color: var(--sklearn-color-background);\n",
              "  border-radius: 1em;\n",
              "  height: 1em;\n",
              "  width: 1em;\n",
              "  text-decoration: none !important;\n",
              "  margin-left: 0.5em;\n",
              "  text-align: center;\n",
              "  /* unfitted */\n",
              "  border: var(--sklearn-color-unfitted-level-1) 1pt solid;\n",
              "  color: var(--sklearn-color-unfitted-level-1);\n",
              "}\n",
              "\n",
              ".sk-estimator-doc-link.fitted,\n",
              "a:link.sk-estimator-doc-link.fitted,\n",
              "a:visited.sk-estimator-doc-link.fitted {\n",
              "  /* fitted */\n",
              "  border: var(--sklearn-color-fitted-level-1) 1pt solid;\n",
              "  color: var(--sklearn-color-fitted-level-1);\n",
              "}\n",
              "\n",
              "/* On hover */\n",
              "div.sk-estimator:hover .sk-estimator-doc-link:hover,\n",
              ".sk-estimator-doc-link:hover,\n",
              "div.sk-label-container:hover .sk-estimator-doc-link:hover,\n",
              ".sk-estimator-doc-link:hover {\n",
              "  /* unfitted */\n",
              "  background-color: var(--sklearn-color-unfitted-level-3);\n",
              "  color: var(--sklearn-color-background);\n",
              "  text-decoration: none;\n",
              "}\n",
              "\n",
              "div.sk-estimator.fitted:hover .sk-estimator-doc-link.fitted:hover,\n",
              ".sk-estimator-doc-link.fitted:hover,\n",
              "div.sk-label-container:hover .sk-estimator-doc-link.fitted:hover,\n",
              ".sk-estimator-doc-link.fitted:hover {\n",
              "  /* fitted */\n",
              "  background-color: var(--sklearn-color-fitted-level-3);\n",
              "  color: var(--sklearn-color-background);\n",
              "  text-decoration: none;\n",
              "}\n",
              "\n",
              "/* Span, style for the box shown on hovering the info icon */\n",
              ".sk-estimator-doc-link span {\n",
              "  display: none;\n",
              "  z-index: 9999;\n",
              "  position: relative;\n",
              "  font-weight: normal;\n",
              "  right: .2ex;\n",
              "  padding: .5ex;\n",
              "  margin: .5ex;\n",
              "  width: min-content;\n",
              "  min-width: 20ex;\n",
              "  max-width: 50ex;\n",
              "  color: var(--sklearn-color-text);\n",
              "  box-shadow: 2pt 2pt 4pt #999;\n",
              "  /* unfitted */\n",
              "  background: var(--sklearn-color-unfitted-level-0);\n",
              "  border: .5pt solid var(--sklearn-color-unfitted-level-3);\n",
              "}\n",
              "\n",
              ".sk-estimator-doc-link.fitted span {\n",
              "  /* fitted */\n",
              "  background: var(--sklearn-color-fitted-level-0);\n",
              "  border: var(--sklearn-color-fitted-level-3);\n",
              "}\n",
              "\n",
              ".sk-estimator-doc-link:hover span {\n",
              "  display: block;\n",
              "}\n",
              "\n",
              "/* \"?\"-specific style due to the `<a>` HTML tag */\n",
              "\n",
              "#sk-container-id-2 a.estimator_doc_link {\n",
              "  float: right;\n",
              "  font-size: 1rem;\n",
              "  line-height: 1em;\n",
              "  font-family: monospace;\n",
              "  background-color: var(--sklearn-color-background);\n",
              "  border-radius: 1rem;\n",
              "  height: 1rem;\n",
              "  width: 1rem;\n",
              "  text-decoration: none;\n",
              "  /* unfitted */\n",
              "  color: var(--sklearn-color-unfitted-level-1);\n",
              "  border: var(--sklearn-color-unfitted-level-1) 1pt solid;\n",
              "}\n",
              "\n",
              "#sk-container-id-2 a.estimator_doc_link.fitted {\n",
              "  /* fitted */\n",
              "  border: var(--sklearn-color-fitted-level-1) 1pt solid;\n",
              "  color: var(--sklearn-color-fitted-level-1);\n",
              "}\n",
              "\n",
              "/* On hover */\n",
              "#sk-container-id-2 a.estimator_doc_link:hover {\n",
              "  /* unfitted */\n",
              "  background-color: var(--sklearn-color-unfitted-level-3);\n",
              "  color: var(--sklearn-color-background);\n",
              "  text-decoration: none;\n",
              "}\n",
              "\n",
              "#sk-container-id-2 a.estimator_doc_link.fitted:hover {\n",
              "  /* fitted */\n",
              "  background-color: var(--sklearn-color-fitted-level-3);\n",
              "}\n",
              "</style><div id=\"sk-container-id-2\" class=\"sk-top-container\"><div class=\"sk-text-repr-fallback\"><pre>XGBClassifier(base_score=None, booster=None, callbacks=None,\n",
              "              colsample_bylevel=None, colsample_bynode=None,\n",
              "              colsample_bytree=None, device=None, early_stopping_rounds=None,\n",
              "              enable_categorical=True, eval_metric=&#x27;auc&#x27;, feature_types=None,\n",
              "              feature_weights=None, gamma=None, grow_policy=None,\n",
              "              importance_type=None, interaction_constraints=None,\n",
              "              learning_rate=None, max_bin=None, max_cat_threshold=None,\n",
              "              max_cat_to_onehot=None, max_delta_step=None, max_depth=None,\n",
              "              max_leaves=None, min_child_weight=None, missing=nan,\n",
              "              monotone_constraints=None, multi_strategy=None, n_estimators=None,\n",
              "              n_jobs=None, nthread=4, ...)</pre><b>In a Jupyter environment, please rerun this cell to show the HTML representation or trust the notebook. <br />On GitHub, the HTML representation is unable to render, please try loading this page with nbviewer.org.</b></div><div class=\"sk-container\" hidden><div class=\"sk-item\"><div class=\"sk-estimator  sk-toggleable\"><input class=\"sk-toggleable__control sk-hidden--visually\" id=\"sk-estimator-id-2\" type=\"checkbox\" checked><label for=\"sk-estimator-id-2\" class=\"sk-toggleable__label  sk-toggleable__label-arrow\"><div><div>XGBClassifier</div></div><div><a class=\"sk-estimator-doc-link \" rel=\"noreferrer\" target=\"_blank\" href=\"https://xgboost.readthedocs.io/en/release_3.0.0/python/python_api.html#xgboost.XGBClassifier\">?<span>Documentation for XGBClassifier</span></a><span class=\"sk-estimator-doc-link \">i<span>Not fitted</span></span></div></label><div class=\"sk-toggleable__content \"><pre>XGBClassifier(base_score=None, booster=None, callbacks=None,\n",
              "              colsample_bylevel=None, colsample_bynode=None,\n",
              "              colsample_bytree=None, device=None, early_stopping_rounds=None,\n",
              "              enable_categorical=True, eval_metric=&#x27;auc&#x27;, feature_types=None,\n",
              "              feature_weights=None, gamma=None, grow_policy=None,\n",
              "              importance_type=None, interaction_constraints=None,\n",
              "              learning_rate=None, max_bin=None, max_cat_threshold=None,\n",
              "              max_cat_to_onehot=None, max_delta_step=None, max_depth=None,\n",
              "              max_leaves=None, min_child_weight=None, missing=nan,\n",
              "              monotone_constraints=None, multi_strategy=None, n_estimators=None,\n",
              "              n_jobs=None, nthread=4, ...)</pre></div> </div></div></div></div>"
            ],
            "text/plain": [
              "XGBClassifier(base_score=None, booster=None, callbacks=None,\n",
              "              colsample_bylevel=None, colsample_bynode=None,\n",
              "              colsample_bytree=None, device=None, early_stopping_rounds=None,\n",
              "              enable_categorical=True, eval_metric='auc', feature_types=None,\n",
              "              feature_weights=None, gamma=None, grow_policy=None,\n",
              "              importance_type=None, interaction_constraints=None,\n",
              "              learning_rate=None, max_bin=None, max_cat_threshold=None,\n",
              "              max_cat_to_onehot=None, max_delta_step=None, max_depth=None,\n",
              "              max_leaves=None, min_child_weight=None, missing=nan,\n",
              "              monotone_constraints=None, multi_strategy=None, n_estimators=None,\n",
              "              n_jobs=None, nthread=4, ...)"
            ]
          },
          "execution_count": 63,
          "metadata": {},
          "output_type": "execute_result"
        }
      ],
      "source": [
        "param={\n",
        "    'objective':'binary:logistic',\n",
        "    'nthread':4,\n",
        "    'scale_pos_weight':class_weight,\n",
        "    'seed' : 1,\n",
        "    'enable_categorical': True, # enable categorical features \n",
        "    'eval_metric':'auc',\n",
        "    \n",
        "}\n",
        "xgb1 = XGBClassifier()\n",
        "xgb1.set_params(**param)"
      ]
    },
    {
      "cell_type": "markdown",
      "metadata": {},
      "source": [
        "So, lets just try a basic, out of the box initial classifier and see how we do with a 5 fold cross validation"
      ]
    },
    {
      "cell_type": "code",
      "execution_count": 65,
      "metadata": {
        "colab": {
          "base_uri": "https://localhost:8080/",
          "height": 909
        },
        "id": "Hsyss-YyATWC",
        "outputId": "bc1a697c-d936-4543-b3f6-1a5ed6879f51"
      },
      "outputs": [
        {
          "name": "stdout",
          "output_type": "stream",
          "text": [
            "class weight scale : 7.564229950319375\n",
            "class weight scale : 7.564229950319375\n",
            "class weight scale : 7.564229950319375\n",
            "class weight scale : 7.564229950319375\n",
            "class weight scale : 7.564229950319375\n"
          ]
        },
        {
          "data": {
            "image/png": "[encoded data removed]",
            "text/plain": [
              "<Figure size 700x700 with 1 Axes>"
            ]
          },
          "metadata": {},
          "output_type": "display_data"
        }
      ],
      "source": [
        "# Train initial classifier and analyze performace using K-fold cross-validation\n",
        "K = 5\n",
        "skf = StratifiedKFold(n_splits=K) # perserve proportion of classes in each fold so some folds are not entirely class 0 or 1 \n",
        "\n",
        "fig = plt.figure(figsize=(7,7))\n",
        "mean_tpr = 0.0\n",
        "mean_fpr = np.linspace(0, 1, 100)\n",
        "lw = 2\n",
        "i = 0\n",
        "roc_aucs_xgb1 = []\n",
        "# split into indices and fit classifier with class weight \n",
        "for train_indices, test_indices in skf.split(x_df, y_df['Label']): # skf is our stratified K-fold defined earlier \n",
        "    X_train, y_train = x_df.iloc[train_indices], y_df['Label'].iloc[train_indices] # split into train and test sets for each fold \n",
        "    X_valid, y_valid = x_df.iloc[test_indices], y_df['Label'].iloc[test_indices]\n",
        "    print('class weight scale : {}'.format(class_weight)) # print class weight for each fold, they should be the same as overall dataset \n",
        "    \n",
        "    xgb1.set_params(**{'scale_pos_weight' : class_weight})\n",
        "    xgb1.fit(X_train,y_train)\n",
        "    xgb1_pred_prob = xgb1.predict_proba(X_valid) # predict probabilities for each fold \n",
        "    \n",
        "    fpr, tpr, thresholds = roc_curve(y_valid, xgb1_pred_prob[:, 1]) # compute False Positive Rate, True Positive Rate and Thresholds for ROC using class 1 probabilities \n",
        "    mean_tpr += np.interp(mean_fpr, fpr, tpr) # interpolate mean_fpr, fpr, and tpr \n",
        "    mean_tpr[0] = 0.0 # set first value of mean_tpr to 0\n",
        "    roc_auc = auc(fpr, tpr) # calculate area under curve for each fold \n",
        "    roc_aucs_xgb1.append(roc_auc) # append to roc_aucs_xgb1 list \n",
        "    plt.plot(fpr, tpr, lw=lw, label='ROC fold %d (area = %0.2f)' % (i, roc_auc)) # plot the ROC curve for current fold \n",
        "\n",
        "    i += 1 #increment fold number \n",
        "\n",
        "plt.plot([0, 1], [0, 1], linestyle='--', lw=lw, color='k',\n",
        "         label='Luck')\n",
        "\n",
        "mean_tpr /= K\n",
        "mean_tpr[-1] = 1.0\n",
        "mean_auc = auc(mean_fpr, mean_tpr)\n",
        "plt.plot(mean_fpr, mean_tpr, color='g', linestyle='--',\n",
        "         label='Mean ROC (area = %0.2f)' % mean_auc, lw=lw)\n",
        "\n",
        "plt.xlim([-0.05, 1.05])\n",
        "plt.ylim([-0.05, 1.05])\n",
        "plt.xlabel('False Positive Rate')\n",
        "plt.ylabel('True Positive Rate')\n",
        "plt.title('Cross-Validated ROC Curves')\n",
        "plt.legend(loc='lower right')\n",
        "plt.grid(True)\n",
        "plt.tight_layout()\n",
        "plt.show()\n",
        "\n",
        "fig.savefig('./outputs/initial_ROC.png')"
      ]
    },
    {
      "cell_type": "markdown",
      "metadata": {},
      "source": [
        "Great, we see a bunch of curves with different ROC that is around 0.72 (not the worst) but lets look at the real important metrics such as precision, and recall"
      ]
    },
    {
      "cell_type": "code",
      "execution_count": 66,
      "metadata": {
        "colab": {
          "base_uri": "https://localhost:8080/"
        },
        "id": "2sX0FQt9iiMk",
        "outputId": "56629e80-3fc9-4fe3-da08-07748a7cb99c"
      },
      "outputs": [
        {
          "name": "stdout",
          "output_type": "stream",
          "text": [
            "              precision    recall  f1-score   support\n",
            "\n",
            "           0       0.90      0.95      0.92     10658\n",
            "           1       0.32      0.19      0.24      1409\n",
            "\n",
            "    accuracy                           0.86     12067\n",
            "   macro avg       0.61      0.57      0.58     12067\n",
            "weighted avg       0.83      0.86      0.84     12067\n",
            "\n"
          ]
        }
      ],
      "source": [
        "# xgb1_nonopt = classification_report(y_true = y_df.Label, y_pred = np.zeros(y_df.shape[0]))\n",
        "from sklearn.model_selection import cross_val_predict\n",
        "\n",
        "xgb1_nonopt = cross_val_predict(xgb1, x_df, y_df['Label'], cv=5, method='predict')\n",
        "print(classification_report(y_df['Label'], xgb1_nonopt))"
      ]
    },
    {
      "cell_type": "markdown",
      "metadata": {},
      "source": [
        "Expected, our precision (0.32), recall (0.19) and F1-Score (0.24) with an un-optimized model was likely going to be not very good. So let's now try optimizing our hyperparameters such as 'n_estimators', 'max_depth', 'regularization_alpha' etc. "
      ]
    },
    {
      "cell_type": "markdown",
      "metadata": {},
      "source": [
        "Manual Grid-Search Hyperparameter Tuning"
      ]
    },
    {
      "cell_type": "code",
      "execution_count": 67,
      "metadata": {
        "colab": {
          "base_uri": "https://localhost:8080/"
        },
        "id": "yofl3NvYmRTH",
        "outputId": "8bb17e71-34e7-4883-9f41-b138f10ef8d7"
      },
      "outputs": [
        {
          "name": "stdout",
          "output_type": "stream",
          "text": [
            "performing hyperparamter optimization step 0\n",
            "{'n_estimators': 80} 0.7185798941989187\n",
            "performing hyperparamter optimization step 1\n",
            "{'max_depth': 2, 'min_child_weight': 7} 0.7578858334170431\n",
            "performing hyperparamter optimization step 2\n",
            "{'gamma': 0.0} 0.7578858334170431\n",
            "performing hyperparamter optimization step 3\n",
            "{'colsample_bytree': 0.8, 'subsample': 0.9} 0.7554182502478317\n",
            "performing hyperparamter optimization step 4\n",
            "{'reg_alpha': 0.1} 0.756581017188973\n",
            "performing hyperparamter optimization step 4b\n",
            "{'reg_alpha': 1.0} 0.756581017188973\n",
            "\n",
            "Parameter optimization finished!\n",
            "XGBClassifier(base_score=None, booster=None, callbacks=None,\n",
            "              colsample_bylevel=None, colsample_bynode=None,\n",
            "              colsample_bytree=0.8, device=None, early_stopping_rounds=None,\n",
            "              enable_categorical=True, eval_metric='auc', feature_types=None,\n",
            "              feature_weights=None, gamma=0.0, grow_policy=None,\n",
            "              importance_type=None, interaction_constraints=None,\n",
            "              learning_rate=None, max_bin=None, max_cat_threshold=None,\n",
            "              max_cat_to_onehot=None, max_delta_step=None, max_depth=2,\n",
            "              max_leaves=None, min_child_weight=7, missing=nan,\n",
            "              monotone_constraints=None, multi_strategy=None, n_estimators=80,\n",
            "              n_jobs=None, nthread=4, ...)\n"
          ]
        }
      ],
      "source": [
        "optimize = True\n",
        "X_train = x_df\n",
        "y_train = y_df['Label']\n",
        "\n",
        "# manual grid search for hyperparameter optimization\n",
        "\n",
        "\n",
        "# Optimization for n_estimators \n",
        "param_test0 = {'n_estimators':range(50,250,10)}\n",
        "print('performing hyperparamter optimization step 0')\n",
        "gsearch0 = GridSearchCV(estimator = xgb1, param_grid = param_test0,\n",
        "                        scoring='roc_auc', n_jobs=1, cv=5)\n",
        "gsearch0.fit(X_train,y_train)\n",
        "print(gsearch0.best_params_, gsearch0.best_score_)\n",
        "\n",
        "# optimization for max_depth and minimum child weight \n",
        "param_test1 = {'max_depth':range(1,10),\n",
        "               'min_child_weight':range(1,10)}\n",
        "print('performing hyperparamter optimization step 1')\n",
        "gsearch1 = GridSearchCV(estimator = gsearch0.best_estimator_,\n",
        "    param_grid = param_test1, scoring='roc_auc', n_jobs=1, cv=5)\n",
        "gsearch1.fit(X_train,y_train)\n",
        "print(gsearch1.best_params_, gsearch1.best_score_)\n",
        "\n",
        "max_d = gsearch1.best_params_['max_depth']\n",
        "min_c = gsearch1.best_params_['min_child_weight']\n",
        "\n",
        "\n",
        "# optimization for gamma \n",
        "param_test2 = {'gamma':[i/10. for i in range(0,5)]}\n",
        "\n",
        "print('performing hyperparamter optimization step 2')\n",
        "gsearch2 = GridSearchCV(estimator = gsearch1.best_estimator_,\n",
        "    param_grid = param_test2, scoring='roc_auc', n_jobs=1, cv=5)\n",
        "gsearch2.fit(X_train,y_train)\n",
        "print(gsearch2.best_params_, gsearch2.best_score_)\n",
        "\n",
        "# optimization for subsample and colsample_bytree \n",
        "param_test3 = {'subsample':[i/10.0 for i in range(1,10)],\n",
        "    'colsample_bytree':[i/10.0 for i in range(1,10)]}\n",
        "\n",
        "print('performing hyperparamter optimization step 3')\n",
        "gsearch3 = GridSearchCV(estimator = gsearch2.best_estimator_,\n",
        "    param_grid = param_test3, scoring='roc_auc', n_jobs=1, cv=5)\n",
        "gsearch3.fit(X_train,y_train)\n",
        "print(gsearch3.best_params_, gsearch3.best_score_)\n",
        "\n",
        "# alpha regularization term on weights \n",
        "param_test4 = {'reg_alpha':[0, 1e-5, 1e-3, 0.1, 10]}\n",
        "\n",
        "print('performing hyperparamter optimization step 4')\n",
        "gsearch4 = GridSearchCV(estimator = gsearch3.best_estimator_,\n",
        "    param_grid = param_test4, scoring='roc_auc', n_jobs=1, cv=5)\n",
        "gsearch4.fit(X_train,y_train)\n",
        "print(gsearch4.best_params_, gsearch4.best_score_)\n",
        "\n",
        "alpha = gsearch4.best_params_['reg_alpha']\n",
        "if alpha != 0:\n",
        "    param_test4b = {'reg_alpha':[0.1*alpha, 0.25*alpha, 0.5*alpha, alpha, 2.5*alpha, 5*alpha, 10*alpha]}\n",
        "    \n",
        "    print('performing hyperparamter optimization step 4b')\n",
        "    gsearch4b = GridSearchCV(estimator = gsearch4.best_estimator_,\n",
        "        param_grid = param_test4b, scoring='roc_auc', n_jobs=1, cv=5)\n",
        "    \n",
        "    gsearch4b.fit(X_train,y_train)\n",
        "    print(gsearch4b.best_params_, gsearch4.best_score_)\n",
        "    print('\\nParameter optimization finished!')\n",
        "    xgb_opt = gsearch4b.best_estimator_\n",
        "    \n",
        "    xgb_opt.set_params(**{'enable_categorical' : True})\n",
        "    \n",
        "    xgb_opt\n",
        "else:\n",
        "    xgb_opt = gsearch4.best_estimator_\n",
        "    xgb_opt\n",
        "\n",
        "print(xgb_opt)"
      ]
    },
    {
      "cell_type": "markdown",
      "metadata": {},
      "source": [
        "We have outputs for hyperparameter optimization and their values that we've calculated. And how we run the same pipeline again as previous but with this newly optimized model (xgb_opt) instead. "
      ]
    },
    {
      "cell_type": "code",
      "execution_count": 68,
      "metadata": {
        "colab": {
          "base_uri": "https://localhost:8080/",
          "height": 909
        },
        "id": "vAgD3ZfrmRRG",
        "outputId": "138740ef-be00-4a48-8701-53535ace6378"
      },
      "outputs": [
        {
          "name": "stdout",
          "output_type": "stream",
          "text": [
            "class weight scale : 7.564229950319375\n",
            "class weight scale : 7.564229950319375\n",
            "class weight scale : 7.564229950319375\n",
            "class weight scale : 7.564229950319375\n",
            "class weight scale : 7.564229950319375\n"
          ]
        },
        {
          "data": {
            "image/png": "[encoded data removed]",
            "text/plain": [
              "<Figure size 700x700 with 1 Axes>"
            ]
          },
          "metadata": {},
          "output_type": "display_data"
        }
      ],
      "source": [
        "# K fold cross validation\n",
        "K = 5\n",
        "\n",
        "skf = StratifiedKFold(n_splits=K)\n",
        "\n",
        "\n",
        "fig = plt.figure(figsize=(7,7))\n",
        "mean_tpr = 0.0\n",
        "mean_fpr = np.linspace(0, 1, 100)\n",
        "lw = 2\n",
        "i = 0\n",
        "roc_aucs_xgbopt = []\n",
        "# split into train an test indices again and use optimized classifier \n",
        "for train_indices, test_indices in skf.split(x_df, y_df['Label']):\n",
        "    X_train, y_train = x_df.iloc[train_indices], y_df['Label'].iloc[train_indices]\n",
        "    X_valid, y_valid = x_df.iloc[test_indices], y_df['Label'].iloc[test_indices]\n",
        "    print('class weight scale : {}'.format(class_weight))\n",
        "    \n",
        "    xgb_opt.set_params(**{'scale_pos_weight' : class_weight})\n",
        "    xgb_opt.fit(X_train,y_train)\n",
        "    xgb_opt_pred_prob = xgb_opt.predict_proba(X_valid)\n",
        "    fpr, tpr, thresholds = roc_curve(y_valid, xgb_opt_pred_prob[:, 1])\n",
        "    mean_tpr += np.interp(mean_fpr, fpr, tpr)\n",
        "    mean_tpr[0] = 0.0\n",
        "    roc_auc = auc(fpr, tpr)\n",
        "    roc_aucs_xgbopt.append(roc_auc)\n",
        "    plt.plot(fpr, tpr, lw=2, label='ROC fold %d (area = %0.2f)' % (i, roc_auc))\n",
        "\n",
        "    i += 1\n",
        "\n",
        "plt.plot([0, 1], [0, 1], linestyle='--', lw=lw, color='k',\n",
        "         label='Luck')\n",
        "\n",
        "mean_tpr /= K\n",
        "mean_tpr[-1] = 1.0\n",
        "mean_auc = auc(mean_fpr, mean_tpr)\n",
        "plt.plot(mean_fpr, mean_tpr, color='g', linestyle='--',\n",
        "         label='Mean ROC (area = %0.2f)' % mean_auc, lw=lw)\n",
        "\n",
        "plt.xlim([-0.05, 1.05])\n",
        "plt.ylim([-0.05, 1.05])\n",
        "\n",
        "plt.xlabel('False Positive Rate')\n",
        "plt.ylabel('True Positive Rate')\n",
        "plt.title('Cross-Validated ROC Curves')\n",
        "plt.legend(loc='lower right')\n",
        "plt.grid(True)\n",
        "plt.tight_layout()\n",
        "\n",
        "fig.savefig('./outputs/ROC.png')"
      ]
    },
    {
      "cell_type": "code",
      "execution_count": 69,
      "metadata": {
        "colab": {
          "base_uri": "https://localhost:8080/",
          "height": 410
        },
        "id": "7fO6KD98mRO1",
        "outputId": "617ba393-629f-468b-f900-de3fcb3788c8"
      },
      "outputs": [
        {
          "data": {
            "image/png": "[encoded data removed]",
            "text/plain": [
              "<Figure size 400x400 with 1 Axes>"
            ]
          },
          "metadata": {},
          "output_type": "display_data"
        }
      ],
      "source": [
        "if optimize:\n",
        "\n",
        "    aucs = [np.mean(roc_aucs_xgb1),\n",
        "            gsearch0.best_score_,\n",
        "            gsearch1.best_score_,\n",
        "            gsearch2.best_score_,\n",
        "            gsearch3.best_score_,\n",
        "            gsearch4.best_score_,\n",
        "            np.mean(roc_aucs_xgbopt)]\n",
        "\n",
        "    fig = plt.figure(figsize=(4,4))\n",
        "    plt.scatter(np.arange(1,len(aucs)+1), aucs)\n",
        "    plt.plot(np.arange(1,len(aucs)+1), aucs)\n",
        "    plt.xlim([0.5, len(aucs)+0.5])\n",
        "    plt.ylim([0.99*aucs[0], 1.01*aucs[-1]])\n",
        "    plt.xlabel('Hyperparamter optimization step')\n",
        "    plt.ylabel('AUC')\n",
        "    plt.title('Hyperparameter optimization')\n",
        "    plt.grid()\n",
        "    fig.savefig('./outputs/optimization.png')"
      ]
    },
    {
      "cell_type": "markdown",
      "metadata": {},
      "source": [
        "Ok, from these two graphs above we do see improvements, certainly, in AUROC and the mean ROC goes from 0.72 -> 0.76, but what about our ever imporant recall, precision and F1 scores?"
      ]
    },
    {
      "cell_type": "code",
      "execution_count": 70,
      "metadata": {
        "colab": {
          "base_uri": "https://localhost:8080/"
        },
        "id": "LLHRQLHNmREF",
        "outputId": "cf4db1d8-b2ec-46ac-f56a-2c2f5846dc75"
      },
      "outputs": [
        {
          "name": "stdout",
          "output_type": "stream",
          "text": [
            "              precision    recall  f1-score   support\n",
            "\n",
            "           0       0.94      0.74      0.83     10658\n",
            "           1       0.24      0.64      0.35      1409\n",
            "\n",
            "    accuracy                           0.72     12067\n",
            "   macro avg       0.59      0.69      0.59     12067\n",
            "weighted avg       0.86      0.72      0.77     12067\n",
            "\n"
          ]
        }
      ],
      "source": [
        "xgb_opt_test = cross_val_predict(xgb_opt, x_df, y_df['Label'], cv=5, method='predict')\n",
        "print(classification_report(y_df['Label'], xgb_opt_test))"
      ]
    },
    {
      "cell_type": "markdown",
      "metadata": {},
      "source": [
        "We've got a substantial improvement in recall in our minority class (0.19 -> 0.64) and a good jump in f1 score, from 0.24 to 0.35. However, our precision has taken a hit which needs to be investigated further. Overall this has dropped our accuracy overall compared to the non-optimized XGBoost model which could be evidence of model over-fitting. \n",
        "\n",
        "Next steps to do would be to optimize using a RandomizedSearch instead of a manual grid search. "
      ]
    },
    {
      "cell_type": "markdown",
      "metadata": {},
      "source": [
        "But before that let's just for the fun of it see what features are driving my results:"
      ]
    },
    {
      "cell_type": "code",
      "execution_count": 71,
      "metadata": {
        "colab": {
          "base_uri": "https://localhost:8080/",
          "height": 1000
        },
        "id": "B5UDdvP9p_Kx",
        "outputId": "ab71eb59-7478-4870-f75a-35d4482605ac"
      },
      "outputs": [
        {
          "data": {
            "image/png": "[encoded data removed]",
            "text/plain": [
              "<Figure size 500x1000 with 1 Axes>"
            ]
          },
          "metadata": {},
          "output_type": "display_data"
        }
      ],
      "source": [
        "def my_plot_importance(booster, figsize, **kwargs):\n",
        "    from matplotlib import pyplot as plt\n",
        "    from xgboost import plot_importance\n",
        "    fig, ax = plt.subplots(1,1,figsize=(figsize))\n",
        "    plot_importance(booster=booster, ax=ax, **kwargs)\n",
        "    for item in ([ax.title, ax.xaxis.label, ax.yaxis.label,] +\n",
        "ax.get_xticklabels() + ax.get_yticklabels()):\n",
        "        item.set_fontsize(10)\n",
        "    plt.tight_layout()\n",
        "    fig.savefig('./outputs/Feature_importance.png')\n",
        "\n",
        "my_plot_importance(xgb_opt, (5,10))"
      ]
    },
    {
      "cell_type": "markdown",
      "metadata": {},
      "source": [
        "This should make sense intituitively, what a patient presents to the ED with (ICD9 code), their age, their specific diagnosis, and finally WHERE they get discharged TO all play the biggest role in determining whether a specific user may be a high frequency user of the ED. \n",
        "\n",
        "Interestingly, their vital signs, like Blood Pressure, Heart Rate, Respiratory rate, and how many different types of issues they're presenting with don't play a large role in the model importance. "
      ]
    },
    {
      "cell_type": "markdown",
      "metadata": {},
      "source": [
        "New method: RandomizedSearchCV\n",
        "\n",
        "TODO:: Finalize RandomizedSearchCV and SHAP"
      ]
    }
  ],
  "metadata": {
    "colab": {
      "provenance": []
    },
    "kernelspec": {
      "display_name": ".venv",
      "language": "python",
      "name": "python3"
    },
    "language_info": {
      "codemirror_mode": {
        "name": "ipython",
        "version": 3
      },
      "file_extension": ".py",
      "mimetype": "text/x-python",
      "name": "python",
      "nbconvert_exporter": "python",
      "pygments_lexer": "ipython3",
      "version": "3.12.4"
    }
  },
  "nbformat": 4,
  "nbformat_minor": 0
}
